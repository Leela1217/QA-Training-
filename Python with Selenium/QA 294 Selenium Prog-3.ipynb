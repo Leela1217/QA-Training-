{
 "cells": [
  {
   "cell_type": "markdown",
   "id": "0c03e0de-9695-4924-801e-3f3eaa1f6b12",
   "metadata": {},
   "source": [
    "# **Selenium Code Example - 3/3**"
   ]
  },
  {
   "cell_type": "markdown",
   "id": "03f07d99-53e7-4c53-9310-482ea0d2cc7e",
   "metadata": {},
   "source": [
    "## **Selenium control options to write text, button press, dropdown list, checkbox and others**"
   ]
  },
  {
   "cell_type": "code",
   "execution_count": 1,
   "id": "4aa24ed7-7144-40a8-b393-f2fd092acc00",
   "metadata": {},
   "outputs": [],
   "source": [
    "# importing all the required modules\n",
    "from selenium import webdriver\n",
    "from selenium.webdriver.chrome.service import Service"
   ]
  },
  {
   "cell_type": "code",
   "execution_count": 2,
   "id": "82f2e84c-b138-4938-892e-c808f9c53388",
   "metadata": {},
   "outputs": [
    {
     "name": "stdout",
     "output_type": "stream",
     "text": [
      "4.18.1\n"
     ]
    }
   ],
   "source": [
    "# printing the current version\n",
    "print (webdriver.__version__)"
   ]
  },
  {
   "cell_type": "code",
   "execution_count": 3,
   "id": "07f5a94d-c948-4e82-a5d2-bd76d68fdc43",
   "metadata": {},
   "outputs": [],
   "source": [
    "# creating a chrome instance\n",
    "driver = webdriver.Chrome()"
   ]
  },
  {
   "cell_type": "code",
   "execution_count": 4,
   "id": "5214f167-0f0f-4d15-8ecb-814e786c6c99",
   "metadata": {},
   "outputs": [],
   "source": [
    "# now we shall go for another web portal for our currency conversion\n",
    "# https://www.calculator.net -> \"All Calculators\" -> \"Currency Calculator\"\n",
    "# https://www.calculator.net/currency-calculator.html\n",
    "driver.get(\"https://www.calculator.net/currency-calculator.html\")"
   ]
  },
  {
   "cell_type": "code",
   "execution_count": 5,
   "id": "0af1e50c-e1d7-409b-bfff-a955b2467f19",
   "metadata": {},
   "outputs": [],
   "source": [
    "# import select and checkbox from selenium library to get HTML select tags\n",
    "from selenium.webdriver.support.ui import Select"
   ]
  },
  {
   "cell_type": "code",
   "execution_count": 15,
   "id": "907f57a7-d4fd-4ca5-8dd7-b4798351e39a",
   "metadata": {},
   "outputs": [],
   "source": [
    "# now select the FROM currency as INR and TO currency as USD from the two drop down lists\n",
    "from_currency = Select(driver.find_element(\"id\", \"efrom\"))\n",
    "from_currency.select_by_visible_text(\"INR: Indian Rupee\")   # case sensitive\n",
    "# from_currency.select_by_index(9)       # index starts from 0\n",
    "# from_currency.select_by_value(\"INR\")   # case sensitive"
   ]
  },
  {
   "cell_type": "code",
   "execution_count": 16,
   "id": "f6f2805a-049e-4f3d-8f1a-ff67b86f2b16",
   "metadata": {},
   "outputs": [],
   "source": [
    "to_currency = Select(driver.find_element(\"id\", \"eto\"))\n",
    "to_currency.select_by_value(\"USD\")   # case sensitive"
   ]
  },
  {
   "cell_type": "code",
   "execution_count": 17,
   "id": "b1d616b0-7f8d-4ffc-a9b0-75321d20790a",
   "metadata": {},
   "outputs": [],
   "source": [
    "# put the amount 1000 in the text fiend\n",
    "amount_textbox = driver.find_element(\"id\", \"eamount\")\n",
    "# clear the text field and put the amount there\n",
    "amount_textbox.clear()\n",
    "amount_textbox.send_keys(\"1000\")"
   ]
  },
  {
   "cell_type": "code",
   "execution_count": 20,
   "id": "460504b0-4468-44d5-87e8-c15c97cd005b",
   "metadata": {},
   "outputs": [],
   "source": [
    "# click on the calculate button\n",
    "# calculate_button = driver.find_element(\"xpath\",\"(//input[@value='Calculate'])[1]\")    # relative xpath\n",
    "calculate_button = driver.find_element(\"xpath\", '//*[@id=\"standard\"]/tbody/tr[5]/td[2]/input[2]')# absolute xpath\n",
    "calculate_button.click()"
   ]
  },
  {
   "cell_type": "code",
   "execution_count": 23,
   "id": "22c3396d-11b2-4866-890c-0a68a5213b86",
   "metadata": {},
   "outputs": [],
   "source": [
    "checkbox = driver.find_element('xpath', '//*[@id=\"ccmajorccsettingbox\"]')\n",
    "# if there is already checked the uncheck it by the help of the java script code\n",
    "if (checkbox.is_selected()):\n",
    "    driver.execute_script(\"arguments[0].click()\", checkbox)"
   ]
  },
  {
   "cell_type": "code",
   "execution_count": 25,
   "id": "13ce87b8-9a5c-47e8-866b-dbd667dd0988",
   "metadata": {},
   "outputs": [],
   "source": [
    "# now select the FROM currency as ZWL and TO currency as TZS from the two drop down lists\n",
    "from_currency = Select(driver.find_element(\"id\", \"efrom\"))\n",
    "from_currency.select_by_value(\"ZWL\")"
   ]
  },
  {
   "cell_type": "code",
   "execution_count": 26,
   "id": "812d8a69-69f4-4445-aff6-71be6e13a823",
   "metadata": {},
   "outputs": [],
   "source": [
    "to_currency = Select(driver.find_element(\"id\", \"eto\"))\n",
    "to_currency.select_by_value(\"TZS\")"
   ]
  },
  {
   "cell_type": "code",
   "execution_count": 28,
   "id": "88af6266-9f8d-4f28-8ea8-b11a32cd28eb",
   "metadata": {},
   "outputs": [],
   "source": [
    "# click on the calculate button\n",
    "# calculate_button = driver.find_element(\"xpath\",\"(//input[@value='Calculate'])[1]\")    # relative xpath\n",
    "calculate_button = driver.find_element(\"xpath\", '//*[@id=\"standard\"]/tbody/tr[5]/td[2]/input[2]')# absolute xpath\n",
    "calculate_button.click()"
   ]
  },
  {
   "cell_type": "code",
   "execution_count": 29,
   "id": "26181157-9e6a-4a46-a323-33addc869766",
   "metadata": {},
   "outputs": [],
   "source": [
    "driver.quit()"
   ]
  },
  {
   "cell_type": "code",
   "execution_count": null,
   "id": "c3e3909a-ba0f-425f-85c2-12cb9b325e37",
   "metadata": {},
   "outputs": [],
   "source": []
  }
 ],
 "metadata": {
  "kernelspec": {
   "display_name": "Python 3 (ipykernel)",
   "language": "python",
   "name": "python3"
  },
  "language_info": {
   "codemirror_mode": {
    "name": "ipython",
    "version": 3
   },
   "file_extension": ".py",
   "mimetype": "text/x-python",
   "name": "python",
   "nbconvert_exporter": "python",
   "pygments_lexer": "ipython3",
   "version": "3.11.7"
  }
 },
 "nbformat": 4,
 "nbformat_minor": 5
}
