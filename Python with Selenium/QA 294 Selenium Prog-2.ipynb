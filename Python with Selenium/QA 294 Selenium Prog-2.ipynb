{
 "cells": [
  {
   "cell_type": "markdown",
   "id": "0959149b-06bd-4534-962b-6dd431bce30a",
   "metadata": {},
   "source": [
    "# **Selenium Code Example - 2/3**"
   ]
  },
  {
   "cell_type": "markdown",
   "id": "f1f06d50-f08c-4ff1-881f-85e49f512e21",
   "metadata": {},
   "source": [
    "## Selenium control options to write text, button press, select menu and others"
   ]
  },
  {
   "cell_type": "code",
   "execution_count": 2,
   "id": "bda47f2b-1a1e-41b0-879f-3f7ff150dd16",
   "metadata": {},
   "outputs": [],
   "source": [
    "# importing all the required modules\n",
    "from selenium import webdriver\n",
    "from selenium.webdriver.chrome.service import Service"
   ]
  },
  {
   "cell_type": "code",
   "execution_count": 3,
   "id": "b39fbc1c-2136-4448-973e-5e7cd463da1e",
   "metadata": {},
   "outputs": [
    {
     "name": "stdout",
     "output_type": "stream",
     "text": [
      "4.18.1\n"
     ]
    }
   ],
   "source": [
    "# printing the current version of Selenium\n",
    "print (webdriver.__version__)"
   ]
  },
  {
   "cell_type": "code",
   "execution_count": 4,
   "id": "d0953626-14d2-4ac9-93f5-9a6fcb66e76a",
   "metadata": {},
   "outputs": [],
   "source": [
    "# checking the presence of the webdriver\n",
    "service = Service(executable_path='./chromedriver.exe')\n",
    "options = webdriver.ChromeOptions()\n",
    "driver = webdriver.Chrome(service=service, options=options)"
   ]
  },
  {
   "cell_type": "code",
   "execution_count": 5,
   "id": "3d31a4e1-c266-4bc5-b9d3-0d493e8c9f71",
   "metadata": {},
   "outputs": [],
   "source": [
    "# open the webportal to calculate nCr operation\n",
    "# https://www.calculatorsoup.com/calculators/discretemathematics/combinations.php\n",
    "# https://www.calculatorsoup.com -> Discrete Math -> Combinations Calculator (To get the web page)\n",
    "URL = \"https://www.calculatorsoup.com/calculators/discretemathematics/combinations.php\"\n",
    "driver.get(URL)"
   ]
  },
  {
   "cell_type": "code",
   "execution_count": 36,
   "id": "38309235-86cf-4189-83dd-509d42921353",
   "metadata": {},
   "outputs": [],
   "source": [
    "num1 = \"10\"\n",
    "n_input = driver.find_element(\"id\", \"n\")\n",
    "n_input.clear()\n",
    "n_input.send_keys(num1)"
   ]
  },
  {
   "cell_type": "code",
   "execution_count": 37,
   "id": "d735e2e0-5172-414b-b427-4907e5ad030b",
   "metadata": {},
   "outputs": [],
   "source": [
    "# r_input = driver.find_element(\"id\", \"r\")\n",
    "# r_input.clear()\n",
    "# r_input.send_keys(\"8\")"
   ]
  },
  {
   "cell_type": "code",
   "execution_count": 38,
   "id": "35b14719-fa1d-448f-a11c-f669a1d66283",
   "metadata": {},
   "outputs": [],
   "source": [
    "# to press keys, we can use the following library\n",
    "from selenium.webdriver.common.keys import Keys"
   ]
  },
  {
   "cell_type": "code",
   "execution_count": 39,
   "id": "76c405ad-27a7-4c69-91b3-f849b943c4d6",
   "metadata": {},
   "outputs": [],
   "source": [
    "# press tab key to go to the next text area\n",
    "n_input.send_keys(Keys.TAB)"
   ]
  },
  {
   "cell_type": "code",
   "execution_count": 40,
   "id": "b783e6a9-6b54-45ef-b88f-acb3f011ec2d",
   "metadata": {},
   "outputs": [],
   "source": [
    "# select currently selected input area\n",
    "r_input = driver.switch_to.active_element"
   ]
  },
  {
   "cell_type": "code",
   "execution_count": 41,
   "id": "156fbbbe-bcc2-4256-8c2c-fffabe6fd961",
   "metadata": {},
   "outputs": [],
   "source": [
    "# put the r value inside the text box\n",
    "num2 = \"5\"\n",
    "r_input.clear()\n",
    "r_input.send_keys(num2)"
   ]
  },
  {
   "cell_type": "code",
   "execution_count": 42,
   "id": "ecccee57-5a86-4965-86a8-35d21b40da7e",
   "metadata": {},
   "outputs": [],
   "source": [
    "# now go to the calculate button and click on it\n",
    "calculate_button = driver.find_element(\"id\", \"calculateButton\")\n",
    "calculate_button.click()"
   ]
  },
  {
   "cell_type": "code",
   "execution_count": 46,
   "id": "d330cfdf-2e74-4355-973b-c784ca48b10f",
   "metadata": {},
   "outputs": [
    {
     "name": "stdout",
     "output_type": "stream",
     "text": [
      "<class 'int'>\n",
      "252\n"
     ]
    }
   ],
   "source": [
    "# read the answer from the result area\n",
    "result_area = driver.find_element(\"id\", \"answer\")\n",
    "actual_result = result_area.text\n",
    "# print (actual_result, type(actual_result))\n",
    "actual_result = int(actual_result.split(\"\\n\")[0].split(\" \")[1])\n",
    "print (type(actual_result))\n",
    "print (actual_result)"
   ]
  },
  {
   "cell_type": "code",
   "execution_count": 50,
   "id": "c920f5cb-793d-4102-aa63-736e6dff4949",
   "metadata": {},
   "outputs": [
    {
     "name": "stdout",
     "output_type": "stream",
     "text": [
      "So expected_result = 252 and actual_result = 252\n",
      "PASS\n",
      "End of the program...\n"
     ]
    }
   ],
   "source": [
    "import math\n",
    "expected_result = math.comb(int(num1), int(num2))\n",
    "print (f\"So expected_result = {expected_result} and actual_result = {actual_result}\")\n",
    "if (actual_result == expected_result):\n",
    "    print (\"PASS\")\n",
    "else:\n",
    "    print (\"FAIL\")\n",
    "print (\"End of the program...\")"
   ]
  },
  {
   "cell_type": "code",
   "execution_count": 51,
   "id": "0424361e-a4f9-42eb-9564-c174ac888576",
   "metadata": {},
   "outputs": [],
   "source": [
    "# closing the chrome instance\n",
    "driver.quit()"
   ]
  },
  {
   "cell_type": "code",
   "execution_count": null,
   "id": "5640a577-c55b-4a1d-8185-00362dc5994f",
   "metadata": {},
   "outputs": [],
   "source": []
  }
 ],
 "metadata": {
  "kernelspec": {
   "display_name": "Python 3 (ipykernel)",
   "language": "python",
   "name": "python3"
  },
  "language_info": {
   "codemirror_mode": {
    "name": "ipython",
    "version": 3
   },
   "file_extension": ".py",
   "mimetype": "text/x-python",
   "name": "python",
   "nbconvert_exporter": "python",
   "pygments_lexer": "ipython3",
   "version": "3.11.7"
  }
 },
 "nbformat": 4,
 "nbformat_minor": 5
}
