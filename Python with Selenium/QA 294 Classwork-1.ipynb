{
 "cells": [
  {
   "cell_type": "markdown",
   "id": "e8decc2a-0d13-454e-a260-784bc43f15ab",
   "metadata": {},
   "source": [
    "# **Python Scripting**"
   ]
  },
  {
   "cell_type": "markdown",
   "id": "23332b4e-922d-4e73-87c9-501e2cd86c77",
   "metadata": {},
   "source": [
    "## **Day-1**"
   ]
  },
  {
   "cell_type": "markdown",
   "id": "bc148703-c2d4-47c6-9d85-6069749a170f",
   "metadata": {},
   "source": [
    "## **Python Inputs and Outputs**"
   ]
  },
  {
   "cell_type": "code",
   "execution_count": 4,
   "id": "45612f17-ede1-4a4c-b6eb-0d8a24944423",
   "metadata": {},
   "outputs": [
    {
     "name": "stdin",
     "output_type": "stream",
     "text": [
      "Please enter the first number: 100\n",
      "Please enter the second number: 200\n"
     ]
    },
    {
     "name": "stdout",
     "output_type": "stream",
     "text": [
      "100 200 100200\n",
      "<class 'str'> <class 'str'> <class 'str'>\n",
      "End of the program...\n"
     ]
    }
   ],
   "source": [
    "num1 = input(\"Please enter the first number:\")\n",
    "num2 = input(\"Please enter the second number:\")\n",
    "total = num1 + num2   # string concatenation\n",
    "print (num1, num2, total)\n",
    "print (type(num1), type(num2), type(total))\n",
    "print (\"End of the program...\")"
   ]
  },
  {
   "cell_type": "code",
   "execution_count": 5,
   "id": "91db1659-758b-43c1-9216-082ce5ace5f3",
   "metadata": {},
   "outputs": [
    {
     "name": "stdin",
     "output_type": "stream",
     "text": [
      "Please enter the first number: 100\n",
      "Please enter the second number: 200\n"
     ]
    },
    {
     "name": "stdout",
     "output_type": "stream",
     "text": [
      "100 200 300\n",
      "<class 'int'> <class 'int'> <class 'int'>\n",
      "End of the program...\n"
     ]
    }
   ],
   "source": [
    "num1 = int(input(\"Please enter the first number:\"))\n",
    "num2 = int(input(\"Please enter the second number:\"))\n",
    "total = num1 + num2   # string concatenation\n",
    "print (num1, num2, total)\n",
    "print (type(num1), type(num2), type(total))\n",
    "print (\"End of the program...\")"
   ]
  },
  {
   "cell_type": "code",
   "execution_count": 17,
   "id": "0d7fe277-2376-4c63-9d3d-cbdcf4ace12a",
   "metadata": {},
   "outputs": [
    {
     "name": "stdout",
     "output_type": "stream",
     "text": [
      "So 100 + 200 = 300\n",
      "So 100 + 200 = 300\n",
      "So 100 + 200 = 300\n",
      "So 100 + 200 = 300\n",
      "So 100 + 200 = 300\n",
      "So 100 + 200 = 300\n",
      "So 100 + 200 = 300\n",
      "So 100 + 200 = 300\n",
      "So 100 +  200.000 = 300\n",
      "So 100 + 200 = 300\n"
     ]
    }
   ],
   "source": [
    "print (\"So\", num1, \"+\", num2, \"=\", total)\n",
    "print (\"So \" + str(num1) + \" + \" + str(num2) + \" = \" + str(total))\n",
    "print (\"So {} + {} = {}\".format(num1, num2, total))  # {} is called a variable place holder\n",
    "print (\"So {0} + {1} = {2}\".format(num1, num2, total))  # indexed place holder\n",
    "print (\"So {2} + {1} = {0}\".format(total, num2, num1))  # indexed place holder\n",
    "print (\"So {fn} + {sn} = {tot}\".format(fn = num1, sn = num2, tot = total))  # labelled place holder\n",
    "print (\"So {fn} + {sn} = {tot}\".format(fn = num1, tot = total, sn = num2))  # labelled place holder\n",
    "print (\"So %d + %d = %d\"%(num1, num2, total))  # format specifiers, %d => decimal or integer data\n",
    "print (\"So %d + %8.3f = %d\"%(num1, num2, total))  # format specifiers, %d => decimal or integer data\n",
    "print (f\"So {num1} + {num2} = {total}\")  # smart formatting"
   ]
  },
  {
   "cell_type": "markdown",
   "id": "12655993-2902-4690-bd9e-2fa14237f49d",
   "metadata": {},
   "source": [
    "## **Dynamic Variable Types**"
   ]
  },
  {
   "cell_type": "code",
   "execution_count": 20,
   "id": "1aa62702-16d3-4eb2-9575-2d18f4b6ef5a",
   "metadata": {},
   "outputs": [
    {
     "name": "stdout",
     "output_type": "stream",
     "text": [
      "100 <class 'int'> 140716980490120\n",
      "100.5 <class 'float'> 1952516766160\n",
      "Python <class 'str'> 140716979225512\n",
      "P <class 'str'> 140716980532040\n",
      "Python <class 'str'> 140716979225512\n",
      "P <class 'str'> 140716980532040\n",
      "True <class 'bool'> 140716979014208\n",
      "False <class 'bool'> 140716979014240\n"
     ]
    }
   ],
   "source": [
    "var1 = 100; print (var1, type(var1), id(var1))\n",
    "var1 = 100.5; print (var1, type(var1), id(var1))\n",
    "var1 = \"Python\"; print (var1, type(var1), id(var1))\n",
    "var1 = \"P\"; print (var1, type(var1), id(var1))\n",
    "var1 = 'Python'; print (var1, type(var1), id(var1))\n",
    "var1 = 'P'; print (var1, type(var1), id(var1))\n",
    "var1 = True; print (var1, type(var1), id(var1))\n",
    "var1 = False; print (var1, type(var1), id(var1))"
   ]
  },
  {
   "cell_type": "markdown",
   "id": "d629009f-44ec-4c90-bb32-cc4d6ba3e2c5",
   "metadata": {},
   "source": [
    "## **Python Operators**"
   ]
  },
  {
   "cell_type": "code",
   "execution_count": 22,
   "id": "041e2176-5710-404f-a4ed-492362fa8b2d",
   "metadata": {},
   "outputs": [
    {
     "name": "stdout",
     "output_type": "stream",
     "text": [
      "140\n",
      "60\n",
      "4000\n",
      "2.5\n",
      "2\n",
      "100000000\n",
      "20\n"
     ]
    }
   ],
   "source": [
    "# Arithmetic Operators: + - * / // ** %\n",
    "print (100 + 40)\n",
    "print (100 - 40)\n",
    "print (100 * 40)\n",
    "print (100 / 40)    # float division\n",
    "print (100 // 40)    # integer division\n",
    "print (100 ** 4)\n",
    "print (100 % 40)"
   ]
  },
  {
   "cell_type": "code",
   "execution_count": 24,
   "id": "5a6610c2",
   "metadata": {},
   "outputs": [
    {
     "name": "stdout",
     "output_type": "stream",
     "text": [
      "True True False False True False\n"
     ]
    }
   ],
   "source": [
    "# Conditional Operators: > >= < <= != ==\n",
    "print (100 > 20, 100 >= 20, 100 < 20, 100 <= 20, 100 != 20, 100 == 20)"
   ]
  },
  {
   "cell_type": "code",
   "execution_count": 28,
   "id": "a1f7b1f6",
   "metadata": {},
   "outputs": [
    {
     "name": "stdout",
     "output_type": "stream",
     "text": [
      "False False False True\n",
      "False True True True\n",
      "False True\n"
     ]
    }
   ],
   "source": [
    "# Logical Operators: and or not\n",
    "print (False and False, False and True, True and False, True and True)\n",
    "print (False or False, False or True, True or False, True or True)\n",
    "print (not True, not False)"
   ]
  },
  {
   "cell_type": "code",
   "execution_count": 31,
   "id": "21324e67",
   "metadata": {},
   "outputs": [
    {
     "name": "stdout",
     "output_type": "stream",
     "text": [
      "100\n",
      "600\n",
      "550\n",
      "2750\n"
     ]
    }
   ],
   "source": [
    "# Assignment Operator: = \n",
    "# Special Assignment Operators: += -= *= /= //= **= %=\n",
    "var1 = 100; print (var1)\n",
    "var1 += 500; print (var1)\n",
    "var1 -= 50; print (var1)\n",
    "var1 *= 5; print (var1)"
   ]
  },
  {
   "cell_type": "code",
   "execution_count": 33,
   "id": "aafea71b",
   "metadata": {},
   "outputs": [
    {
     "name": "stdout",
     "output_type": "stream",
     "text": [
      "Even\n",
      "Odd\n"
     ]
    }
   ],
   "source": [
    "# Operators: Unary, Binary, Ternary\n",
    "# Unary Operators (Require only one operand): +100 -300\n",
    "# Binary Operators (Require only two operands): 700 + 100    900 - 300\n",
    "# Ternary Operator (Requires only three operands)\n",
    "num1 = 100;\n",
    "result = \"Even\" if (num1 % 2 == 0) else \"Odd\"\n",
    "print (result)\n",
    "\n",
    "num1 = 105;\n",
    "result = \"Even\" if (num1 % 2 == 0) else \"Odd\"\n",
    "print (result)"
   ]
  },
  {
   "cell_type": "markdown",
   "id": "86f99a9f-94fa-437e-99ca-82341a5dfbac",
   "metadata": {},
   "source": [
    "## **ASCII Codes and Characters**"
   ]
  },
  {
   "cell_type": "code",
   "execution_count": 34,
   "id": "51844390-f593-466a-a7ff-a7de9f2bd740",
   "metadata": {},
   "outputs": [
    {
     "name": "stdout",
     "output_type": "stream",
     "text": [
      "65 97 90 122\n",
      "A a Z z\n"
     ]
    }
   ],
   "source": [
    "# ASCII (American Standard Code for Information Interchange) Codes\n",
    "# A => 65, B => 66, Z => 90\n",
    "# a => 97, b => 98, z => 122\n",
    "# 0 => 48, 1 => 49, 9 => 57\n",
    "# Space Bar/Blank => 32, Enter => 13, Esc => 27, Back Space => 9, Tab => 8\n",
    "# ASCII Code is 8 bits code ranging from 0 to 255\n",
    "# It can be divided into two categories:\n",
    "# 1. Normal ASCII Codes (0 to 127) - Printable\n",
    "# 2. Extended ASCII Codes (128 to 255) - Non-Printable\n",
    "print (ord('A'), ord('a'), ord('Z'), ord('z'))  # returns characters to ASCII Codes\n",
    "print (chr(65), chr(97), chr(90), chr(122))     # returns ASCII Codes to characters"
   ]
  },
  {
   "cell_type": "markdown",
   "id": "3422a6e5-96a9-4e09-b957-030aed4a99ea",
   "metadata": {},
   "source": [
    "## **Conditional Statements**"
   ]
  },
  {
   "cell_type": "code",
   "execution_count": 46,
   "id": "bb5f3328-1ffe-43e0-93db-8f8cc9aed2d5",
   "metadata": {},
   "outputs": [
    {
     "name": "stdin",
     "output_type": "stream",
     "text": [
      "Please enter the first number: 400\n",
      "Please enter the second number: 300\n",
      "Please enter the third number: 100\n"
     ]
    },
    {
     "name": "stdout",
     "output_type": "stream",
     "text": [
      "So the First Number is the maximum...\n",
      "So the maximum number is 400\n",
      "End of the program...\n"
     ]
    }
   ],
   "source": [
    "# calculate the maximum of three user given numbers\n",
    "num1 = int(input(\"Please enter the first number:\"))\n",
    "num2 = int(input(\"Please enter the second number:\"))\n",
    "num3 = int(input(\"Please enter the third number:\"))\n",
    "if (num1 > num2):\n",
    "    if (num1 > num3):\n",
    "        print (\"So the First Number is the maximum...\")\n",
    "        print (\"So the maximum number is\", num1)\n",
    "    else:\n",
    "        print (\"So the Third Number is the maximum...\")\n",
    "        print (\"So the maximum number is\", num3)\n",
    "elif (num2 > num3):\n",
    "    print (\"So the Second Number is the maximum...\")\n",
    "    print (\"So the maximum number is\", num2)\n",
    "else:\n",
    "    print (\"So the Third Number is the maximum...\")\n",
    "    print (\"So the maximum number is\", num3)\n",
    "print (\"End of the program...\")"
   ]
  },
  {
   "cell_type": "code",
   "execution_count": 15,
   "id": "b6b6a83e",
   "metadata": {},
   "outputs": [
    {
     "name": "stdin",
     "output_type": "stream",
     "text": [
      "Please enter the first number: 300\n",
      "Please enter the second number: 200\n",
      "Please enter the third number: 100\n"
     ]
    },
    {
     "name": "stdout",
     "output_type": "stream",
     "text": [
      "So the First Number is the maximum...\n",
      "So the maximum number is 300\n",
      "End of the program...\n"
     ]
    }
   ],
   "source": [
    "# calculate the maximum of three user given numbers\n",
    "num1 = int(input(\"Please enter the first number:\"))\n",
    "num2 = int(input(\"Please enter the second number:\"))\n",
    "num3 = int(input(\"Please enter the third number:\"))\n",
    "if (num1 > num2 and num1 > num3):\n",
    "    print (\"So the First Number is the maximum...\")\n",
    "    print (\"So the maximum number is\", num1)\n",
    "elif (num2 > num3):\n",
    "    print (\"So the Second Number is the maximum...\")\n",
    "    print (\"So the maximum number is\", num2)\n",
    "else:\n",
    "    print (\"So the Third Number is the maximum...\")\n",
    "    print (\"So the maximum number is\", num3)\n",
    "print (\"End of the program...\")"
   ]
  },
  {
   "cell_type": "markdown",
   "id": "b7989fcc-4c00-4895-926b-c038008bc003",
   "metadata": {},
   "source": [
    "## **Dealing with 'print' statement**"
   ]
  },
  {
   "cell_type": "code",
   "execution_count": 55,
   "id": "bd6eefff-e3db-417f-b37a-0ae0f472653d",
   "metadata": {},
   "outputs": [
    {
     "name": "stdout",
     "output_type": "stream",
     "text": [
      "Hello to all\n",
      "Good afternoon\n"
     ]
    }
   ],
   "source": [
    "print (\"Hello\",\"to all)\n",
    "print (\"Good afternoon\")"
   ]
  },
  {
   "cell_type": "code",
   "execution_count": 56,
   "id": "b0eb5f44-2f9e-4702-8932-7dda62e2a445",
   "metadata": {},
   "outputs": [
    {
     "name": "stdout",
     "output_type": "stream",
     "text": [
      "Help on built-in function print in module builtins:\n",
      "\n",
      "print(*args, sep=' ', end='\\n', file=None, flush=False)\n",
      "    Prints the values to a stream, or to sys.stdout by default.\n",
      "    \n",
      "    sep\n",
      "      string inserted between values, default a space.\n",
      "    end\n",
      "      string appended after the last value, default a newline.\n",
      "    file\n",
      "      a file-like object (stream); defaults to the current sys.stdout.\n",
      "    flush\n",
      "      whether to forcibly flush the stream.\n",
      "\n"
     ]
    }
   ],
   "source": [
    "help(print)"
   ]
  },
  {
   "cell_type": "code",
   "execution_count": 54,
   "id": "a13c0a5f-ef9c-40f7-8973-4fde0debb3a7",
   "metadata": {},
   "outputs": [
    {
     "name": "stdout",
     "output_type": "stream",
     "text": [
      "Help on method raw_input in module ipykernel.kernelbase:\n",
      "\n",
      "raw_input(prompt='') method of ipykernel.ipkernel.IPythonKernel instance\n",
      "    Forward raw_input to frontends\n",
      "    \n",
      "    Raises\n",
      "    ------\n",
      "    StdinNotImplementedError if active frontend doesn't support stdin.\n",
      "\n",
      "None\n"
     ]
    }
   ],
   "source": [
    "print (help(input))"
   ]
  },
  {
   "cell_type": "code",
   "execution_count": 61,
   "id": "36280c93",
   "metadata": {},
   "outputs": [
    {
     "name": "stdout",
     "output_type": "stream",
     "text": [
      "Hello - to all...Good afternoon\n"
     ]
    }
   ],
   "source": [
    "print (\"Hello\",\"to all\", sep = \" - \", end = \"...\")\n",
    "print (\"Good afternoon\")"
   ]
  },
  {
   "cell_type": "code",
   "execution_count": null,
   "id": "30380daa-08dc-4347-899d-264df0e5d67b",
   "metadata": {},
   "outputs": [],
   "source": [
    "Default input device (stdint) is keyboard\n",
    "And default output device (stdop) is display"
   ]
  },
  {
   "cell_type": "markdown",
   "id": "9fad5f2b-ed00-40ed-8b7b-f96a9d3f006e",
   "metadata": {},
   "source": [
    "## **Day-2**"
   ]
  },
  {
   "cell_type": "markdown",
   "id": "7a7c9604-8ca5-4119-94ac-f753d617cdc3",
   "metadata": {},
   "source": [
    "## **Python Loops**"
   ]
  },
  {
   "cell_type": "code",
   "execution_count": 63,
   "id": "85024cca-2cb2-470e-b070-3fa74d35b1ff",
   "metadata": {},
   "outputs": [
    {
     "name": "stdout",
     "output_type": "stream",
     "text": [
      "Looping for i = 0...\n",
      "Looping for i = 1...\n",
      "Looping for i = 2...\n",
      "Looping for i = 3...\n",
      "Looping for i = 4...\n",
      "Looping for i = 5...\n",
      "Looping for i = 6...\n",
      "Looping for i = 7...\n"
     ]
    }
   ],
   "source": [
    "# for loop\n",
    "for i in range(8):\n",
    "    print (f\"Looping for i = {i}...\")"
   ]
  },
  {
   "cell_type": "code",
   "execution_count": 64,
   "id": "cc22349a-055e-447b-9919-631f07852cc1",
   "metadata": {},
   "outputs": [
    {
     "name": "stdout",
     "output_type": "stream",
     "text": [
      "Looping for i = 2...\n",
      "Looping for i = 3...\n",
      "Looping for i = 4...\n",
      "Looping for i = 5...\n",
      "Looping for i = 6...\n",
      "Looping for i = 7...\n"
     ]
    }
   ],
   "source": [
    "# for loop\n",
    "for i in range(2, 8):\n",
    "    print (f\"Looping for i = {i}...\")"
   ]
  },
  {
   "cell_type": "code",
   "execution_count": 68,
   "id": "b98f02c1-54ec-4d68-b816-5d1f519ffa0a",
   "metadata": {},
   "outputs": [
    {
     "name": "stdout",
     "output_type": "stream",
     "text": [
      "Looping for i = 0...\n",
      "Looping for i = 2...\n",
      "Looping for i = 4...\n",
      "Looping for i = 6...\n"
     ]
    }
   ],
   "source": [
    "# for loop\n",
    "for i in range(0, 8, 2):\n",
    "    print (f\"Looping for i = {i}...\")"
   ]
  },
  {
   "cell_type": "code",
   "execution_count": 69,
   "id": "b8bdf93e-e085-4182-9742-f4d78eb09618",
   "metadata": {},
   "outputs": [
    {
     "name": "stdout",
     "output_type": "stream",
     "text": [
      "Looping for i = -8...\n",
      "Looping for i = -6...\n",
      "Looping for i = -4...\n",
      "Looping for i = -2...\n",
      "Looping for i = 0...\n",
      "Looping for i = 2...\n",
      "Looping for i = 4...\n",
      "Looping for i = 6...\n"
     ]
    }
   ],
   "source": [
    "# for loop\n",
    "for i in range(-8, 8, 2):\n",
    "    print (f\"Looping for i = {i}...\")"
   ]
  },
  {
   "cell_type": "code",
   "execution_count": 70,
   "id": "85c54ab9-3fe2-4c1b-a042-62f8c8a30489",
   "metadata": {},
   "outputs": [
    {
     "name": "stdout",
     "output_type": "stream",
     "text": [
      "Looping for i = 8...\n",
      "Looping for i = 6...\n",
      "Looping for i = 4...\n",
      "Looping for i = 2...\n",
      "Looping for i = 0...\n",
      "Looping for i = -2...\n",
      "Looping for i = -4...\n",
      "Looping for i = -6...\n"
     ]
    }
   ],
   "source": [
    "# for loop\n",
    "for i in range(8, -8, -2):\n",
    "    print (f\"Looping for i = {i}...\")"
   ]
  },
  {
   "cell_type": "code",
   "execution_count": 72,
   "id": "217d9957-67d1-4ffb-9247-f4e741fa1cd0",
   "metadata": {},
   "outputs": [
    {
     "name": "stdout",
     "output_type": "stream",
     "text": [
      "Looping for i = 0...\n",
      "Looping for i = 1...\n",
      "Looping for i = 2...\n",
      "Looping for i = 3...\n",
      "Looping for i = 4...\n",
      "Looping for i = 5...\n",
      "Looping for i = 6...\n",
      "Looping for i = 7...\n",
      "ELSE: Had a smooth execution...\n",
      "End of the program...\n"
     ]
    }
   ],
   "source": [
    "# for loop\n",
    "for i in range(0, 8):\n",
    "    print (f\"Looping for i = {i}...\")\n",
    "else:\n",
    "    print (\"ELSE: Had a smooth execution...\")\n",
    "print (\"End of the program...\")"
   ]
  },
  {
   "cell_type": "code",
   "execution_count": 73,
   "id": "7e404eed-c370-4731-81fe-8e524bf3581f",
   "metadata": {},
   "outputs": [
    {
     "name": "stdout",
     "output_type": "stream",
     "text": [
      "Looping for i = 0...\n",
      "Looping for i = 1...\n",
      "Looping for i = 2...\n",
      "Looping for i = 3...\n",
      "Looping for i = 4...\n",
      "Looping for i = 5...\n",
      "Breaking the loop with BREAK statement...\n",
      "End of the program...\n"
     ]
    }
   ],
   "source": [
    "# for loop\n",
    "for i in range(0, 8):\n",
    "    print (f\"Looping for i = {i}...\")\n",
    "    if (i == 5):\n",
    "        print (\"Breaking the loop with BREAK statement...\")\n",
    "        break\n",
    "else:\n",
    "    print (\"ELSE: Had a smooth execution...\")\n",
    "print (\"End of the program...\")"
   ]
  },
  {
   "cell_type": "code",
   "execution_count": 74,
   "id": "62b39c46-12bc-43bd-8e5e-c84696c06672",
   "metadata": {},
   "outputs": [
    {
     "name": "stdout",
     "output_type": "stream",
     "text": [
      "Looping for i = 0...\n",
      "Looping for i = 1...\n",
      "Looping for i = 2...\n",
      "Looping for i = 3...\n",
      "Looping for i = 4...\n",
      "Looping for i = 5...\n",
      "Looping for i = 6...\n",
      "Looping for i = 7...\n",
      "ELSE: Had a smooth execution...\n",
      "End of the program...\n"
     ]
    }
   ],
   "source": [
    "# for loop\n",
    "for i in range(0, 8):\n",
    "    print (f\"Looping for i = {i}...\")\n",
    "    if (i == 50):\n",
    "        print (\"Breaking the loop with BREAK statement...\")\n",
    "        break\n",
    "else:\n",
    "    print (\"ELSE: Had a smooth execution...\")\n",
    "print (\"End of the program...\")"
   ]
  },
  {
   "cell_type": "code",
   "execution_count": 78,
   "id": "661ce84a-5030-43fb-8351-93560e5192b6",
   "metadata": {},
   "outputs": [
    {
     "name": "stdin",
     "output_type": "stream",
     "text": [
      "Please enter one POSITIVE INTEGER Number: 101\n"
     ]
    },
    {
     "name": "stdout",
     "output_type": "stream",
     "text": [
      "101 is a PRIME Number...\n",
      "End of the program...\n"
     ]
    }
   ],
   "source": [
    "# check whether one user given integer is PRIME or not\n",
    "num = int(input(\"Please enter one POSITIVE INTEGER Number:\"))\n",
    "for i in range(2, num):\n",
    "    if (num % i == 0):\n",
    "        print (f\"{num} is NOT a PRIME Number...\")\n",
    "        break\n",
    "else:\n",
    "    print (f\"{num} is a PRIME Number...\")\n",
    "print (\"End of the program...\")"
   ]
  },
  {
   "cell_type": "code",
   "execution_count": 79,
   "id": "6a82823d-df5c-4f75-b903-f861d7d81c8a",
   "metadata": {},
   "outputs": [
    {
     "name": "stdout",
     "output_type": "stream",
     "text": [
      "Looping for i = 0...\n",
      "Looping for i = 1...\n",
      "Continuing with the next iteration...\n",
      "Looping for i = 3...\n",
      "Continuing with the next iteration...\n",
      "Looping for i = 5...\n",
      "Looping for i = 6...\n",
      "Looping for i = 7...\n",
      "ELSE: Had a smooth execution...\n",
      "End of the program...\n"
     ]
    }
   ],
   "source": [
    "# for loop\n",
    "for i in range(0, 8):\n",
    "    if (i == 2 or i == 4):\n",
    "        print (\"Continuing with the next iteration...\")\n",
    "        continue\n",
    "    print (f\"Looping for i = {i}...\")\n",
    "else:\n",
    "    print (\"ELSE: Had a smooth execution...\")\n",
    "print (\"End of the program...\")"
   ]
  },
  {
   "cell_type": "code",
   "execution_count": 84,
   "id": "c93afce7-4e15-4f72-9db9-8c8788e78a4e",
   "metadata": {},
   "outputs": [
    {
     "name": "stdout",
     "output_type": "stream",
     "text": [
      "Looping for i = 1...\n",
      "Looping for i = 2...\n",
      "Looping for i = 3...\n",
      "Looping for i = 4...\n",
      "Looping for i = 5...\n",
      "Looping for i = 6...\n",
      "Looping for i = 7...\n",
      "Looping for i = 8...\n",
      "ELSE: Had a smooth execution...\n",
      "End of the program...\n"
     ]
    }
   ],
   "source": [
    "# while loop\n",
    "i = 1\n",
    "while(i <= 8):\n",
    "    print (f\"Looping for i = {i}...\")\n",
    "    i += 1    # i = i + 1\n",
    "else:\n",
    "    print (\"ELSE: Had a smooth execution...\")\n",
    "print (\"End of the program...\")"
   ]
  },
  {
   "cell_type": "code",
   "execution_count": 86,
   "id": "627089f8-71c1-4f34-ad3a-66c54b7e1507",
   "metadata": {},
   "outputs": [
    {
     "name": "stdout",
     "output_type": "stream",
     "text": [
      "Looping for i = 1...\n",
      "Looping for i = 2...\n",
      "Looping for i = 3...\n",
      "Looping for i = 4...\n",
      "Looping for i = 5...\n",
      "Breaking out from the loop...\n",
      "End of the program...\n"
     ]
    }
   ],
   "source": [
    "# while loop with break statement\n",
    "i = 1\n",
    "while(i <= 8):\n",
    "    print (f\"Looping for i = {i}...\")\n",
    "    if (i == 5):\n",
    "        print (\"Breaking out from the loop...\")\n",
    "        break\n",
    "    i += 1    # i = i + 1\n",
    "else:\n",
    "    print (\"ELSE: Had a smooth execution...\")\n",
    "print (\"End of the program...\")"
   ]
  },
  {
   "cell_type": "code",
   "execution_count": 2,
   "id": "05c5bf25-5d1a-41fc-916c-244bc55f20b1",
   "metadata": {},
   "outputs": [
    {
     "name": "stdout",
     "output_type": "stream",
     "text": [
      "Looping for i = 1...\n",
      "Looping for i = 2...\n",
      "Continuing with loop...\n",
      "Looping for i = 4...\n",
      "Continuing with loop...\n",
      "Looping for i = 6...\n",
      "Looping for i = 7...\n",
      "Looping for i = 8...\n",
      "ELSE: Had a smooth execution...\n",
      "End of the program...\n"
     ]
    }
   ],
   "source": [
    "# while loop with continue statement\n",
    "i = 1\n",
    "while(i <= 8):\n",
    "    if (i == 3 or i == 5):\n",
    "        print (\"Continuing with loop...\")\n",
    "        i += 1\n",
    "        continue\n",
    "    print (f\"Looping for i = {i}...\")\n",
    "    i += 1    # i = i + 1\n",
    "else:\n",
    "    print (\"ELSE: Had a smooth execution...\")\n",
    "print (\"End of the program...\")"
   ]
  },
  {
   "cell_type": "code",
   "execution_count": 6,
   "id": "275125b7-9740-4dd1-b6e9-235c50829fd2",
   "metadata": {},
   "outputs": [
    {
     "name": "stdout",
     "output_type": "stream",
     "text": [
      "Visit Doctor...\n",
      "G O O D  M O R N I N G...\n",
      "Day Number: 1 and the medicine number: 1...\n",
      "Day Number: 1 and the medicine number: 2...\n",
      "Day Number: 1 and the medicine number: 3...\n",
      "G O O D  N I G H T...\n",
      "------------------------------------------------------------------------------\n",
      "G O O D  M O R N I N G...\n",
      "Day Number: 2 and the medicine number: 1...\n",
      "Day Number: 2 and the medicine number: 2...\n",
      "Day Number: 2 and the medicine number: 3...\n",
      "G O O D  N I G H T...\n",
      "------------------------------------------------------------------------------\n",
      "G O O D  M O R N I N G...\n",
      "Day Number: 3 and the medicine number: 1...\n",
      "Day Number: 3 and the medicine number: 2...\n",
      "Day Number: 3 and the medicine number: 3...\n",
      "G O O D  N I G H T...\n",
      "------------------------------------------------------------------------------\n",
      "G O O D  M O R N I N G...\n",
      "Day Number: 4 and the medicine number: 1...\n",
      "Day Number: 4 and the medicine number: 2...\n",
      "Day Number: 4 and the medicine number: 3...\n",
      "G O O D  N I G H T...\n",
      "------------------------------------------------------------------------------\n",
      "G O O D  M O R N I N G...\n",
      "Day Number: 5 and the medicine number: 1...\n",
      "Day Number: 5 and the medicine number: 2...\n",
      "Day Number: 5 and the medicine number: 3...\n",
      "G O O D  N I G H T...\n",
      "------------------------------------------------------------------------------\n",
      "Thanks to Doctor...\n",
      "Number of medicines consumed is 15...\n"
     ]
    }
   ],
   "source": [
    "# nested loop\n",
    "print (\"Visit Doctor...\")    # 1 time\n",
    "medicount = 0\n",
    "for day in range(1, 6):\n",
    "    print (\"G O O D  M O R N I N G...\")    # 5 times\n",
    "    for medi in range(1, 4):\n",
    "        print (f\"Day Number: {day} and the medicine number: {medi}...\")    # 15 times\n",
    "        medicount += 1\n",
    "    print (\"G O O D  N I G H T...\")    # 5 times\n",
    "    print (\"------------------------------------------------------------------------------\")    # 5 times\n",
    "print (\"Thanks to Doctor...\")    # 1 time\n",
    "print (f\"Number of medicines consumed is {medicount}...\")"
   ]
  },
  {
   "cell_type": "code",
   "execution_count": 5,
   "id": "1568b7aa-4b45-4ae1-98cc-a3394cc4a294",
   "metadata": {},
   "outputs": [
    {
     "name": "stdout",
     "output_type": "stream",
     "text": [
      "Visit Doctor...\n",
      "G O O D  M O R N I N G...\n",
      "Day Number: Monday and the medicine number: 1...\n",
      "Day Number: Monday and the medicine number: 2...\n",
      "Day Number: Monday and the medicine number: 3...\n",
      "G O O D  N I G H T...\n",
      "------------------------------------------------------------------------------\n",
      "G O O D  M O R N I N G...\n",
      "Day Number: Tuesday and the medicine number: 1...\n",
      "Day Number: Tuesday and the medicine number: 2...\n",
      "Day Number: Tuesday and the medicine number: 3...\n",
      "G O O D  N I G H T...\n",
      "------------------------------------------------------------------------------\n",
      "G O O D  M O R N I N G...\n",
      "Day Number: Wednesday and the medicine number: 1...\n",
      "Day Number: Wednesday and the medicine number: 2...\n",
      "Day Number: Wednesday and the medicine number: 3...\n",
      "G O O D  N I G H T...\n",
      "------------------------------------------------------------------------------\n",
      "G O O D  M O R N I N G...\n",
      "Day Number: Thursday and the medicine number: 1...\n",
      "Day Number: Thursday and the medicine number: 2...\n",
      "Day Number: Thursday and the medicine number: 3...\n",
      "G O O D  N I G H T...\n",
      "------------------------------------------------------------------------------\n",
      "G O O D  M O R N I N G...\n",
      "Day Number: Friday and the medicine number: 1...\n",
      "Day Number: Friday and the medicine number: 2...\n",
      "Day Number: Friday and the medicine number: 3...\n",
      "G O O D  N I G H T...\n",
      "------------------------------------------------------------------------------\n",
      "Thanks to Doctor...\n"
     ]
    }
   ],
   "source": [
    "# nested loop\n",
    "print (\"Visit Doctor...\")    # 1 time\n",
    "for day in [\"Monday\", \"Tuesday\", \"Wednesday\", \"Thursday\", \"Friday\"]:\n",
    "    print (\"G O O D  M O R N I N G...\")    # 5 times\n",
    "    for medi in range(1, 4):\n",
    "        print (f\"Day Number: {day} and the medicine number: {medi}...\")    # 15 times\n",
    "    print (\"G O O D  N I G H T...\")    # 5 times\n",
    "    print (\"------------------------------------------------------------------------------\")    # 5 times\n",
    "print (\"Thanks to Doctor...\")    # 1 time"
   ]
  },
  {
   "cell_type": "code",
   "execution_count": 1,
   "id": "584f8fef-3aaf-4b15-bf96-0f84f2a803c3",
   "metadata": {},
   "outputs": [
    {
     "name": "stdout",
     "output_type": "stream",
     "text": [
      "Visit Doctor...\n",
      "G O O D  M O R N I N G...\n",
      "Day Number: 1 and the medicine number: 1...\n",
      "Day Number: 1 and the medicine number: 2...\n",
      "Day Number: 1 and the medicine number: 3...\n",
      "G O O D  N I G H T...\n",
      "------------------------------------------------------------------------------\n",
      "G O O D  M O R N I N G...\n",
      "Day Number: 2 and the medicine number: 1...\n",
      "Day Number: 2 and the medicine number: 2...\n",
      "Day Number: 2 and the medicine number: 3...\n",
      "G O O D  N I G H T...\n",
      "------------------------------------------------------------------------------\n",
      "G O O D  M O R N I N G...\n",
      "Day Number: 3 and the medicine number: 1...\n",
      "Day Number: 3 and the medicine number: 2...\n",
      "Day Number: 3 and the medicine number: 3...\n",
      "G O O D  N I G H T...\n",
      "------------------------------------------------------------------------------\n",
      "G O O D  M O R N I N G...\n",
      "Day Number: 4 and the medicine number: 1...\n",
      "Day Number: 4 and the medicine number: 2...\n",
      "Day Number: 4 and the medicine number: 3...\n",
      "G O O D  N I G H T...\n",
      "------------------------------------------------------------------------------\n",
      "G O O D  M O R N I N G...\n",
      "Day Number: 5 and the medicine number: 1...\n",
      "Day Number: 5 and the medicine number: 2...\n",
      "Day Number: 5 and the medicine number: 3...\n",
      "G O O D  N I G H T...\n",
      "------------------------------------------------------------------------------\n",
      "Thanks to Doctor...\n",
      "Number of medicines consumed is 15...\n"
     ]
    }
   ],
   "source": [
    "# nested loop\n",
    "print (\"Visit Doctor...\")    # 1 time\n",
    "medicount = 0\n",
    "day = 1\n",
    "while (day <= 5):\n",
    "    print (\"G O O D  M O R N I N G...\")    # 5 times\n",
    "    medi = 1\n",
    "    while (medi <= 3):\n",
    "        print (f\"Day Number: {day} and the medicine number: {medi}...\")    # 15 times\n",
    "        medicount += 1\n",
    "        medi += 1\n",
    "    print (\"G O O D  N I G H T...\")    # 5 times\n",
    "    print (\"------------------------------------------------------------------------------\")    # 5 times\n",
    "    day += 1\n",
    "print (\"Thanks to Doctor...\")    # 1 time\n",
    "print (f\"Number of medicines consumed is {medicount}...\")"
   ]
  },
  {
   "cell_type": "code",
   "execution_count": 8,
   "id": "fdd0733d-2511-4644-90ce-3a1248d53188",
   "metadata": {},
   "outputs": [
    {
     "name": "stdout",
     "output_type": "stream",
     "text": [
      "EVEN Number...\n",
      "EVEN Number...\n"
     ]
    }
   ],
   "source": [
    "num = 100\n",
    "if (num % 2 == 0):\n",
    "    print (\"EVEN Number...\")\n",
    "else:\n",
    "    pass    # statement placeholder\n",
    "\n",
    "if (num % 2 != 0):\n",
    "    pass\n",
    "else:\n",
    "    print (\"EVEN Number...\")"
   ]
  },
  {
   "cell_type": "code",
   "execution_count": 6,
   "id": "10093205-f7cf-4f4c-aed8-0abf1aeaa03f",
   "metadata": {},
   "outputs": [
    {
     "name": "stdout",
     "output_type": "stream",
     "text": [
      "EVEN Number...\n",
      "EVEN Number...\n"
     ]
    }
   ],
   "source": [
    "num = 100\n",
    "if (num % 2 == 0):\n",
    "    print (\"EVEN Number...\")\n",
    "else:\n",
    "    print (\"ODD Number...\")\n",
    "\n",
    "if (num % 2 != 0):\n",
    "    print (\"ODD Number...\")\n",
    "else:\n",
    "    print (\"EVEN Number...\")"
   ]
  },
  {
   "cell_type": "markdown",
   "id": "46af5428-d062-415b-9441-1148a2aaa2d4",
   "metadata": {},
   "source": [
    " ## **Python Inbuilt Collections**"
   ]
  },
  {
   "cell_type": "code",
   "execution_count": 17,
   "id": "0fc9c787-92f8-4548-bb6a-bccedce3e2e6",
   "metadata": {},
   "outputs": [
    {
     "name": "stdout",
     "output_type": "stream",
     "text": [
      "[100, 2.45, True, 'Food', 201] 5 <class 'list'> 1870450484288\n",
      "(100, 2.45, True, 'Food', 201) 5 <class 'tuple'> 1870453483664\n",
      "{'name': 'Bidisha', 'location': 'Noida', 'job': 'Developer', 'company': 'Accenture'} 4 <class 'dict'> 1870450279360\n",
      "{True, 2.45, 100, 201, 'Delhi', 'Food'} 6 <class 'set'> 1870442327040\n",
      "frozenset({True, 2.45, 100, 201, 'Delhi', 'Food'}) 6 <class 'frozenset'> 1870452903040\n"
     ]
    }
   ],
   "source": [
    "# different inbuilt collections\n",
    "list1 = [100, 2.45, True, \"Food\", 201]   # mutable\n",
    "print (list1, len(list1), type(list1), id(list1))\n",
    "tuple1 = (100, 2.45, True, \"Food\", 201)   # immutable, read only\n",
    "print (tuple1, len(tuple1), type(tuple1), id(tuple1))\n",
    "dict1 = {'name':'Bidisha', 'location':'Noida', 'job':'Developer', 'company':'Accenture'} # mutable\n",
    "print (dict1, len(dict1), type(dict1), id(dict1))\n",
    "set1 = {\"Delhi\", 100, 2.45, True, \"Food\", 201, True, \"Food\", 201}   # mutable\n",
    "print (set1, len(set1), type(set1), id(set1))\n",
    "fset1 = frozenset([\"Delhi\", 100, 2.45, True, \"Food\", 201, True, \"Food\", 201]) # immutable, read only\n",
    "print (fset1, len(fset1), type(fset1), id(fset1))"
   ]
  },
  {
   "cell_type": "code",
   "execution_count": null,
   "id": "980d8611-d745-4c52-84f0-6d9c69a53e40",
   "metadata": {},
   "outputs": [],
   "source": []
  },
  {
   "cell_type": "markdown",
   "id": "91858929-a3cd-4836-8c35-9b80ce1ab5f8",
   "metadata": {},
   "source": [
    "## **Day-3**"
   ]
  },
  {
   "cell_type": "markdown",
   "id": "cd36af32-c76c-445f-8787-dcdd4f90202f",
   "metadata": {},
   "source": [
    "## **User Defined Function (UDF)**"
   ]
  },
  {
   "cell_type": "code",
   "execution_count": 3,
   "id": "3b7ca5a4-98b5-4aeb-962a-3b9a3a9a478e",
   "metadata": {},
   "outputs": [
    {
     "name": "stdout",
     "output_type": "stream",
     "text": [
      "Hello Hello Hello Hello \n",
      "Hello Hello Hello Hello \n",
      "Hello Hello Hello Hello \n",
      "<class 'function'>\n"
     ]
    }
   ],
   "source": [
    "def funct1():\n",
    "    print(\"Hello \" * 4)\n",
    "\n",
    "funct1()\n",
    "funct1()\n",
    "funct1()\n",
    "print (type(funct1))"
   ]
  },
  {
   "cell_type": "code",
   "execution_count": 5,
   "id": "54e04662-3a56-4f9a-9256-43d87124a9ac",
   "metadata": {},
   "outputs": [
    {
     "name": "stdout",
     "output_type": "stream",
     "text": [
      "Hello Hello Hello Hello Hello Hello \n",
      "Hi Hi Hi Hi Hi Hi Hi Hi Hi Hi \n",
      "Good Bye !!! Good Bye !!! Good Bye !!! \n"
     ]
    }
   ],
   "source": [
    "def funct2(msg, times):  # positional parameters\n",
    "    print(msg * times)\n",
    "\n",
    "funct2(\"Hello \", 6)  # positional arguments\n",
    "funct2(\"Hi \", 10)\n",
    "funct2(\"Good Bye !!! \", 3)"
   ]
  },
  {
   "cell_type": "code",
   "execution_count": 6,
   "id": "3e3b903e-70e9-4849-a50b-2919c1b519c5",
   "metadata": {},
   "outputs": [
    {
     "name": "stdout",
     "output_type": "stream",
     "text": [
      "Hello Hello Hello Hello Hello Hello \n",
      "Hi Hi Hi Hi Hi Hi Hi Hi Hi Hi \n",
      "Good Bye !!! Good Bye !!! Good Bye !!! \n"
     ]
    }
   ],
   "source": [
    "def funct3(msg, times):  # positional parameters\n",
    "    return msg * times\n",
    "\n",
    "print (funct3(\"Hello \", 6))  # positional arguments\n",
    "print (funct3(\"Hi \", 10))\n",
    "result = funct3(\"Good Bye !!! \", 3)\n",
    "print (result)"
   ]
  },
  {
   "cell_type": "code",
   "execution_count": 18,
   "id": "312ca730-88a7-4743-99f1-d9087e1d56ba",
   "metadata": {},
   "outputs": [
    {
     "name": "stdout",
     "output_type": "stream",
     "text": [
      "par1 = 100, par2 = 200 and par3 = 300...\n",
      "par1 = 100, par2 = 200 and par3 = 333...\n",
      "par1 = 100, par2 = 222 and par3 = 333...\n",
      "par1 = 111, par2 = 222 and par3 = 333...\n",
      "par1 = 111, par2 = 200 and par3 = 300...\n",
      "par1 = 111, par2 = 200 and par3 = 333...\n",
      "par1 = 100, par2 = 222 and par3 = 300...\n"
     ]
    }
   ],
   "source": [
    "# function with default arguemnts\n",
    "def funct4(par1 = 111, par2 = 222, par3 = 333):  # positional parameters\n",
    "    print(f\"par1 = {par1}, par2 = {par2} and par3 = {par3}...\")\n",
    "\n",
    "funct4(100, 200, 300)  # positional arguments\n",
    "funct4(100, 200)\n",
    "funct4(100)\n",
    "funct4()\n",
    "funct4(par2 = 200, par3 = 300)\n",
    "funct4(par2 = 200)\n",
    "funct4(par3 = 300, par1 = 100)"
   ]
  },
  {
   "cell_type": "code",
   "execution_count": 19,
   "id": "c7d97211-3b01-4f9f-b158-41f314d3a877",
   "metadata": {},
   "outputs": [
    {
     "name": "stdout",
     "output_type": "stream",
     "text": [
      "300\n",
      "200\n"
     ]
    }
   ],
   "source": [
    "def funct5(par1, par2 = None):\n",
    "    # if (par2 == None):\n",
    "    if (par2 is None):\n",
    "        return 2 * par1\n",
    "    else:\n",
    "        return par1 + par2\n",
    "    \n",
    "print (funct5(100, 200))\n",
    "print (funct5(100))"
   ]
  },
  {
   "cell_type": "code",
   "execution_count": 21,
   "id": "de9e2687-7c79-4996-85d4-500296367094",
   "metadata": {},
   "outputs": [
    {
     "name": "stdout",
     "output_type": "stream",
     "text": [
      "Total = 140, Difference = 60, Product = 4000 and Quotient = 2.5...\n",
      "(140, 60, 4000, 2.5) <class 'tuple'> 4\n",
      "Total = 140, Difference = 60, Product = 4000 and Quotient = 2.5...\n"
     ]
    }
   ],
   "source": [
    "# function returning multiple values\n",
    "def funct6(num1, num2):\n",
    "    total = num1 + num2\n",
    "    difference = num1 - num2\n",
    "    product = num1 * num2\n",
    "    quotient = num1 / num2\n",
    "    return total, difference, product, quotient\n",
    "\n",
    "tt, dd, pp, qq = funct6(100, 40)\n",
    "print (f\"Total = {tt}, Difference = {dd}, Product = {pp} and Quotient = {qq}...\")\n",
    "result = funct6(100, 40)\n",
    "print (result, type(result), len(result))\n",
    "print (f\"Total = {result[0]}, Difference = {result[1]}, Product = {result[2]} and Quotient = {result[3]}...\")"
   ]
  },
  {
   "cell_type": "code",
   "execution_count": 22,
   "id": "51b6bf6c-3084-43a6-a5e7-f9efa8d52645",
   "metadata": {},
   "outputs": [
    {
     "name": "stdout",
     "output_type": "stream",
     "text": [
      "('Amitava', 'Male', 'Developer') <class 'tuple'> 3\n",
      "('Amitava', 'Male', 'Developer', 'Pune') <class 'tuple'> 4\n",
      "('Amitava', 'Male', 'Developer', 'Pune', 'Accenture') <class 'tuple'> 5\n"
     ]
    }
   ],
   "source": [
    "# function with variable number of arguments\n",
    "def funct7(*arg):    # here *arg will define forefully arg as tuple type object\n",
    "    print (arg, type(arg), len(arg))\n",
    "    \n",
    "funct7(\"Amitava\", \"Male\", \"Developer\")\n",
    "funct7(\"Amitava\", \"Male\", \"Developer\", \"Pune\")\n",
    "funct7(\"Amitava\", \"Male\", \"Developer\", \"Pune\", \"Accenture\")"
   ]
  },
  {
   "cell_type": "code",
   "execution_count": 26,
   "id": "ee3601a9-cf68-47fa-a9af-2fdefd08b18e",
   "metadata": {},
   "outputs": [
    {
     "name": "stdout",
     "output_type": "stream",
     "text": [
      "{'name': 'Amitava', 'gender': 'Male', 'desig': 'Developer'} <class 'dict'> 3\n",
      "{'name': 'Amitava', 'gender': 'Male', 'desig': 'Developer', 'loc': 'Pune'} <class 'dict'> 4\n",
      "{'name': 'Amitava', 'gender': True, 'desig': 'Developer', 'loc': 'Pune', 'comp': 'Accenture', 'sal': 40000.0} <class 'dict'> 6\n"
     ]
    }
   ],
   "source": [
    "# function with variable number of arguments\n",
    "def funct8(**kwarg):    # here **kwarg will define forefully kwarg as dictionary type object\n",
    "    print (kwarg, type(kwarg), len(kwarg))\n",
    "    \n",
    "funct8(name = \"Amitava\", gender = \"Male\", desig = \"Developer\")\n",
    "funct8(name = \"Amitava\", gender = \"Male\", desig = \"Developer\", loc = \"Pune\")\n",
    "funct8(name = \"Amitava\", gender = True, desig = \"Developer\", loc = \"Pune\", comp = \"Accenture\", sal = 40000.00)"
   ]
  },
  {
   "cell_type": "code",
   "execution_count": 27,
   "id": "b6b3edf0-c3b3-4c51-82ef-f811a89426d8",
   "metadata": {},
   "outputs": [
    {
     "name": "stdout",
     "output_type": "stream",
     "text": [
      "('Amitava', 'Male', 'Developer') <class 'tuple'> 3\n",
      "{'loc': 'Pune', 'comp': 'Accenture', 'tech': 'Java'} <class 'dict'> 3\n",
      "\n",
      "('Amitava', 'Male', 'Developer') <class 'tuple'> 3\n",
      "{} <class 'dict'> 0\n",
      "\n",
      "() <class 'tuple'> 0\n",
      "{'loc': 'Pune', 'comp': 'Accenture', 'tech': 'Java'} <class 'dict'> 3\n"
     ]
    }
   ],
   "source": [
    "# function with variable number of arguments\n",
    "def funct9(*arg, **kwarg):\n",
    "    print (arg, type(arg), len(arg))\n",
    "    print (kwarg, type(kwarg), len(kwarg))\n",
    "    \n",
    "funct9(\"Amitava\", \"Male\", \"Developer\", loc = \"Pune\", comp = \"Accenture\", tech = \"Java\")\n",
    "print ()\n",
    "funct9(\"Amitava\", \"Male\", \"Developer\")\n",
    "print ()\n",
    "funct9(loc = \"Pune\", comp = \"Accenture\", tech = \"Java\")"
   ]
  },
  {
   "cell_type": "code",
   "execution_count": 33,
   "id": "b8e1e014-ebd4-46ba-ad79-8c4dc66f56f2",
   "metadata": {},
   "outputs": [
    {
     "name": "stdout",
     "output_type": "stream",
     "text": [
      "120\n",
      "720\n"
     ]
    }
   ],
   "source": [
    "# non-recursive factorial calculation UDF\n",
    "# 5! = 5 * 4 * 3 * 2 * 1 = 1 * 2 * 3 * 4 * 5 = 120\n",
    "# 0! = 1! = 1\n",
    "def factorial_nr(num):\n",
    "    if (num == 0 or num == 1):\n",
    "        return 1\n",
    "    fact = 1\n",
    "    # list1 = list(range(1, num + 1))\n",
    "    # print (list1)\n",
    "    for i in range(1, num + 1):\n",
    "        fact = fact * i\n",
    "    return fact\n",
    "\n",
    "print (factorial_nr(5))\n",
    "print (factorial_nr(6))"
   ]
  },
  {
   "cell_type": "code",
   "execution_count": 34,
   "id": "1857d3f0-6cc9-4df8-b642-41834bb7aafd",
   "metadata": {},
   "outputs": [
    {
     "name": "stdout",
     "output_type": "stream",
     "text": [
      "120\n",
      "720\n"
     ]
    }
   ],
   "source": [
    "# recursive factorial calculation UDF\n",
    "# n! = n * (n -1)!\n",
    "# 5! = 5 * 4 * 3 * 2 * 1 = 1 * 2 * 3 * 4 * 5 = 120\n",
    "# 0! = 1! = 1\n",
    "def factorial_r(num):\n",
    "    if (num == 0 or num == 1):   # base case: for certain inputs, outputs are known to us\n",
    "        return 1\n",
    "    return num * factorial_r(num - 1)   # recursive case: the function will call itself\n",
    "\n",
    "print (factorial_r(5))\n",
    "print (factorial_r(6))"
   ]
  },
  {
   "cell_type": "code",
   "execution_count": null,
   "id": "ee672c19-60ef-4be1-9ed0-cdafd3851ace",
   "metadata": {},
   "outputs": [],
   "source": [
    "5! = 5 * 4!\n",
    "         4 * 3!\n",
    "             3 * 2!\n",
    "                 2 * 1!\n",
    "                     1\n",
    "                 2\n",
    "             6\n",
    "         24\n",
    "     120"
   ]
  },
  {
   "cell_type": "markdown",
   "id": "2d99fe20-201c-41ac-aedf-dd8d50cea847",
   "metadata": {},
   "source": [
    "## **Lambda Function**\n",
    "\n",
    "> In Python programming, a lambda function is a small anonymous function that can have any number of arguments, but can only have one expression. The expression is evaluated and returned as the function result. Lambda functions are commonly used in combination with higher-order functions such as map(), filter(), and reduce().\n",
    "\n",
    "Some of the properties of lambda functions in Python programming include:\n",
    "* **Anonymous:** Lambda functions are anonymous, meaning they do not have a name like regular functions. They are defined using the keyword \"lambda\" followed by the arguments and the expression.\n",
    "* **Single Expression:** A lambda function can only contain a single expression that is evaluated and returned as the function result. This means that it cannot contain multiple statements or control flow structures.\n",
    "* **Concise:** Lambda functions are concise and can be defined in a single line of code. This makes them useful for defining simple functions on-the-fly.\n",
    "* **Immutable:** Lambda functions are immutable, meaning they cannot be modified once defined. This means that you cannot change the behavior of a lambda function after it has been defined.\n",
    "* **Higher-order Functions:** Lambda functions are often used in combination with higher-order functions such as map(), filter(), and reduce(). These functions take other functions as arguments and return new functions as results.\n",
    "* **Memory-efficient:** Lambda functions are memory-efficient since they are defined on-the-fly and do not require a separate function definition. This can be useful when working with large data sets or when memory usage is a concern.#### Lambda Function\n",
    "> In Python programming, a lambda function is a small anonymous function that can have any number of arguments, but can only have one expression. The expression is evaluated and returned as the function result. Lambda functions are commonly used in combination with higher-order functions such as map(), filter(), and reduce().\n",
    "\n",
    "Some of the properties of lambda functions in Python programming include:\n",
    "* **Anonymous:** Lambda functions are anonymous, meaning they do not have a name like regular functions. They are defined using the keyword \"lambda\" followed by the arguments and the expression.\n",
    "* **Single Expression:** A lambda function can only contain a single expression that is evaluated and returned as the function result. This means that it cannot contain multiple statements or control flow structures.\n",
    "* **Concise:** Lambda functions are concise and can be defined in a single line of code. This makes them useful for defining simple functions on-the-fly.\n",
    "* **Immutable:** Lambda functions are immutable, meaning they cannot be modified once defined. This means that you cannot change the behavior of a lambda function after it has been defined.\n",
    "* **Higher-order Functions:** Lambda functions are often used in combination with higher-order functions such as map(), filter(), and reduce(). These functions take other functions as arguments and return new functions as results.\n",
    "* **Memory-efficient:** Lambda functions are memory-efficient since they are defined on-the-fly and do not require a separate function definition. This can be useful when working with large data sets or when memory usage is a concern."
   ]
  },
  {
   "cell_type": "code",
   "execution_count": 35,
   "id": "7882db90-630f-46cf-a9c2-aa54afa5a1b1",
   "metadata": {},
   "outputs": [
    {
     "name": "stdout",
     "output_type": "stream",
     "text": [
      "<class 'function'>\n",
      "100\n",
      "121\n"
     ]
    }
   ],
   "source": [
    "mysquare = lambda num: num * num\n",
    "print (type(mysquare))\n",
    "print (mysquare(10))\n",
    "print (mysquare(11))"
   ]
  },
  {
   "cell_type": "code",
   "execution_count": 37,
   "id": "d2795be1-d1e8-4c34-a743-c41d9eb7dd41",
   "metadata": {},
   "outputs": [
    {
     "name": "stdout",
     "output_type": "stream",
     "text": [
      "<class 'function'>\n",
      "300\n",
      "3000\n",
      "University\n"
     ]
    }
   ],
   "source": [
    "myaddition = lambda num1, num2: num1 + num2\n",
    "print (type(myaddition))\n",
    "print (myaddition(100, 200))\n",
    "print (myaddition(1000, 2000))\n",
    "print (myaddition(\"Uni\", \"versity\"))"
   ]
  },
  {
   "cell_type": "code",
   "execution_count": 38,
   "id": "a60a7a7b-4c42-4858-8cf1-e62a0b482c1e",
   "metadata": {},
   "outputs": [
    {
     "name": "stdout",
     "output_type": "stream",
     "text": [
      "120\n",
      "720\n"
     ]
    }
   ],
   "source": [
    "# write a recusive lambda function to calculate the factorial of a given number\n",
    "factorial_cal = lambda num: 1 if (num == 0 or num == 1) else num * factorial_cal(num - 1)\n",
    "print (factorial_cal(5))\n",
    "print (factorial_cal(6))"
   ]
  },
  {
   "cell_type": "markdown",
   "id": "400d2e99-4d09-43e4-b4c7-18016b4d5e9b",
   "metadata": {},
   "source": [
    "## **Importing Modules**"
   ]
  },
  {
   "cell_type": "code",
   "execution_count": 39,
   "id": "439c9388-aad2-4e62-b145-f0cfe19bbbd1",
   "metadata": {},
   "outputs": [],
   "source": [
    "import math"
   ]
  },
  {
   "cell_type": "code",
   "execution_count": 63,
   "id": "e1219f39-49e6-4a31-a898-36a6b885c2ab",
   "metadata": {},
   "outputs": [
    {
     "name": "stdout",
     "output_type": "stream",
     "text": [
      "0.0 1.0 0.0\n",
      "0.0 1.5707963267948966 0.0\n",
      "0.0\n",
      "6.907755278982137 6.907755278982137 2.9999999999999996 3.0\n",
      "10.0 10.0\n",
      "1700 20\n",
      "120\n",
      "20.024984394500787\n",
      "20.024984394500787\n"
     ]
    }
   ],
   "source": [
    "print (math.sin(0), math.cos(0), math.tan(0))\n",
    "print (math.asin(0), math.acos(0), math.atan(0))\n",
    "print (math.asinh(0))\n",
    "print (math.log(1000), math.log(1000, math.e), math.log(1000, 10), math.log10(1000))\n",
    "print (math.log(1024, 2), math.log2(1024))\n",
    "print (math.lcm(100, 340), math.gcd(100, 340))\n",
    "print (math.factorial(5))\n",
    "print (math.dist((10, 4), (30, 5)))\n",
    "print (math.sqrt((10 - 30) ** 2 + (4 - 5) ** 2))"
   ]
  },
  {
   "cell_type": "code",
   "execution_count": null,
   "id": "fb11d0e5-f41d-4280-b79a-affd3d7e5b4d",
   "metadata": {},
   "outputs": [],
   "source": [
    "help(math)"
   ]
  },
  {
   "cell_type": "markdown",
   "id": "acb378d3-7f41-44c9-bf7e-c22e4b277b30",
   "metadata": {},
   "source": [
    "## **Day-4**"
   ]
  },
  {
   "cell_type": "markdown",
   "id": "7bfd4297-5d86-4e8d-ac9a-f2b29896aa0c",
   "metadata": {},
   "source": [
    "## **String Processing**"
   ]
  },
  {
   "cell_type": "code",
   "execution_count": null,
   "id": "985c69be-f042-4b59-a4ea-a35fa146f65e",
   "metadata": {},
   "outputs": [],
   "source": [
    "index left to right ->  0   1   2   3   4   5   6   7   8   9\n",
    "               mystr =  u   n   i   v   e   r   s   i   t   y\n",
    "index right to left ->-10  -9  -8  -7  -6  -5  -4  -3  -2  -1"
   ]
  },
  {
   "cell_type": "code",
   "execution_count": 3,
   "id": "42c72490-cb72-4366-9f62-d5ce331c3be7",
   "metadata": {},
   "outputs": [
    {
     "name": "stdout",
     "output_type": "stream",
     "text": [
      "university 10 <class 'str'> 2940960455920\n",
      "v v s s\n",
      "versi versi versi versi\n"
     ]
    }
   ],
   "source": [
    "mystr = \"university\"\n",
    "print (mystr, len(mystr), type(mystr), id(mystr))\n",
    "print (mystr[3], mystr[-7], mystr[6], mystr[-4])    # indexing\n",
    "print (mystr[3:8], mystr[-7:-2], mystr[3:-2], mystr[-7:8])    # slicing"
   ]
  },
  {
   "cell_type": "code",
   "execution_count": 4,
   "id": "5872d02d-1073-4d4a-afe5-19d62de9f68e",
   "metadata": {},
   "outputs": [
    {
     "name": "stdout",
     "output_type": "stream",
     "text": [
      "caLCuTTa unIVerSitY 19 <class 'str'> 2940964683120\n",
      "CALCUTTA UNIVERSITY\n",
      "calcutta university\n",
      "Calcutta University\n",
      "Calcutta university\n",
      "CAlcUttA UNivERsITy\n",
      "          caLCuTTa unIVerSitY           \n",
      "               CALCUTTA UNIVERSITY                \n"
     ]
    }
   ],
   "source": [
    "mystr = \"caLCuTTa unIVerSitY\"\n",
    "print (mystr, len(mystr), type(mystr), id(mystr))\n",
    "print (mystr.upper())\n",
    "print (mystr.lower())\n",
    "print (mystr.title())\n",
    "print (mystr.capitalize())\n",
    "print (mystr.swapcase())\n",
    "print (mystr.center(40))\n",
    "print (mystr.upper().center(50))"
   ]
  },
  {
   "cell_type": "code",
   "execution_count": 5,
   "id": "f5967c71-7f9f-456c-b2e5-62e30e83db42",
   "metadata": {},
   "outputs": [
    {
     "name": "stdout",
     "output_type": "stream",
     "text": [
      "4\n",
      "4\n",
      "11\n",
      "11\n",
      "-1\n"
     ]
    }
   ],
   "source": [
    "mystr = \"charity begins at home\"\n",
    "print (mystr.find(\"ity\"))\n",
    "print (mystr.find(\"i\", 3))\n",
    "print (mystr.find(\"i\", 5))\n",
    "print (mystr.find(\"ins\", 11, 14))\n",
    "print (mystr.find(\"ins\", 11, 13))"
   ]
  },
  {
   "cell_type": "code",
   "execution_count": 6,
   "id": "e86df2d8-3b43-49da-a956-d59deb2d281f",
   "metadata": {},
   "outputs": [
    {
     "name": "stdout",
     "output_type": "stream",
     "text": [
      "4\n",
      "4\n",
      "11\n",
      "11\n"
     ]
    },
    {
     "ename": "ValueError",
     "evalue": "substring not found",
     "output_type": "error",
     "traceback": [
      "\u001b[1;31m---------------------------------------------------------------------------\u001b[0m",
      "\u001b[1;31mValueError\u001b[0m                                Traceback (most recent call last)",
      "Cell \u001b[1;32mIn[6], line 5\u001b[0m\n\u001b[0;32m      3\u001b[0m \u001b[38;5;28mprint\u001b[39m (mystr\u001b[38;5;241m.\u001b[39mindex(\u001b[38;5;124m\"\u001b[39m\u001b[38;5;124mi\u001b[39m\u001b[38;5;124m\"\u001b[39m, \u001b[38;5;241m5\u001b[39m))\n\u001b[0;32m      4\u001b[0m \u001b[38;5;28mprint\u001b[39m (mystr\u001b[38;5;241m.\u001b[39mindex(\u001b[38;5;124m\"\u001b[39m\u001b[38;5;124mins\u001b[39m\u001b[38;5;124m\"\u001b[39m, \u001b[38;5;241m11\u001b[39m, \u001b[38;5;241m14\u001b[39m))\n\u001b[1;32m----> 5\u001b[0m \u001b[38;5;28mprint\u001b[39m (mystr\u001b[38;5;241m.\u001b[39mindex(\u001b[38;5;124m\"\u001b[39m\u001b[38;5;124mins\u001b[39m\u001b[38;5;124m\"\u001b[39m, \u001b[38;5;241m11\u001b[39m, \u001b[38;5;241m13\u001b[39m))\n",
      "\u001b[1;31mValueError\u001b[0m: substring not found"
     ]
    }
   ],
   "source": [
    "print (mystr.index(\"ity\"))\n",
    "print (mystr.index(\"i\", 3))\n",
    "print (mystr.index(\"i\", 5))\n",
    "print (mystr.index(\"ins\", 11, 14))\n",
    "print (mystr.index(\"ins\", 11, 13))"
   ]
  },
  {
   "cell_type": "code",
   "execution_count": 7,
   "id": "450e02c2-32e6-417f-ad46-ea1295aa6d51",
   "metadata": {},
   "outputs": [
    {
     "name": "stdout",
     "output_type": "stream",
     "text": [
      "    calcutta    university      31 <class 'str'> 2940964888752\n",
      "calcutta    university 22\n",
      "calcutta    university      27\n",
      "    calcutta    university 26\n",
      "calcutta    university 22\n",
      "calcutta    university      27\n",
      "    calcutta    university 26\n"
     ]
    }
   ],
   "source": [
    "mystr = \"    calcutta    university     \"\n",
    "print (mystr, len(mystr), type(mystr), id(mystr))\n",
    "print (mystr.strip(), len(mystr.strip()))\n",
    "print (mystr.lstrip(), len(mystr.lstrip()))\n",
    "print (mystr.rstrip(), len(mystr.rstrip()))\n",
    "print (mystr.strip(\" \"), len(mystr.strip(\" \")))\n",
    "print (mystr.lstrip(\" \"), len(mystr.lstrip(\" \")))\n",
    "print (mystr.rstrip(\" \"), len(mystr.rstrip(\" \")))"
   ]
  },
  {
   "cell_type": "code",
   "execution_count": 10,
   "id": "23259e3f-ff73-4011-8051-e46d33bd528a",
   "metadata": {},
   "outputs": [
    {
     "name": "stdout",
     "output_type": "stream",
     "text": [
      "##@@calcutta#@#@university#@@@# 31 <class 'str'> 2940996307584\n",
      "calcutta#@#@university 22\n",
      "calcutta#@#@university#@@@# 27\n",
      "##@@calcutta#@#@university 26\n"
     ]
    }
   ],
   "source": [
    "mystr = \"##@@calcutta#@#@university#@@@#\"\n",
    "print (mystr, len(mystr), type(mystr), id(mystr))\n",
    "print (mystr.strip(\"#@\"), len(mystr.strip(\"#@\")))\n",
    "print (mystr.lstrip(\"#@\"), len(mystr.lstrip(\"#@\")))\n",
    "print (mystr.rstrip(\"#@\"), len(mystr.rstrip(\"#@\")))"
   ]
  },
  {
   "cell_type": "code",
   "execution_count": 11,
   "id": "5762c130-87b2-47a3-8371-918f701f71f8",
   "metadata": {},
   "outputs": [
    {
     "name": "stdout",
     "output_type": "stream",
     "text": [
      "True\n",
      "False\n",
      "True\n",
      "True\n",
      "True\n",
      "False\n",
      "True\n"
     ]
    }
   ],
   "source": [
    "mystr = \"charity begins at home\"\n",
    "print (mystr.startswith(\"cha\"))\n",
    "print (mystr.startswith(\"beg\"))\n",
    "print (mystr.startswith(\"beg\", 8))\n",
    "print (mystr.startswith(\"beg\", 8, 20))\n",
    "print (mystr.endswith(\"ome\"))\n",
    "print (mystr.endswith(\"gins\"))\n",
    "print (mystr.endswith(\"gins\", 0, 14))"
   ]
  },
  {
   "cell_type": "code",
   "execution_count": 12,
   "id": "72b585de-c9d6-4258-9a36-381430233e46",
   "metadata": {},
   "outputs": [
    {
     "name": "stdout",
     "output_type": "stream",
     "text": [
      "p\n",
      "y\n",
      "t\n",
      "h\n",
      "o\n",
      "n\n"
     ]
    }
   ],
   "source": [
    "mystr = \"python\"    # Reading character by character from a string\n",
    "for ch in mystr:\n",
    "    print (ch)"
   ]
  },
  {
   "cell_type": "code",
   "execution_count": 13,
   "id": "6869ae7c-0e31-48b4-99b5-60470e6c8b41",
   "metadata": {},
   "outputs": [
    {
     "name": "stdout",
     "output_type": "stream",
     "text": [
      "p\n",
      "y\n",
      "t\n",
      "h\n",
      "o\n",
      "n\n"
     ]
    }
   ],
   "source": [
    "mystr = \"python\"    # Reading character by character from a string\n",
    "for i in range(len(mystr)):\n",
    "    print (mystr[i])"
   ]
  },
  {
   "cell_type": "code",
   "execution_count": 14,
   "id": "3655ea4a-ffbc-40b2-b24c-836d4e143c47",
   "metadata": {},
   "outputs": [
    {
     "name": "stdout",
     "output_type": "stream",
     "text": [
      "charity begins at home 22 <class 'str'> 2940996311024\n",
      "['charity', 'begins', 'at', 'home']\n",
      "['charity', 'begins', 'at', 'home']\n",
      "['char', 'ty beg', 'ns at home']\n"
     ]
    }
   ],
   "source": [
    "mystr = \"charity begins at home\"\n",
    "print (mystr, len(mystr), type(mystr), id(mystr))\n",
    "list1 = mystr.split()\n",
    "print (list1)\n",
    "list1 = mystr.split(\" \")\n",
    "print (list1)\n",
    "list1 = mystr.split(\"i\")\n",
    "print (list1)"
   ]
  },
  {
   "cell_type": "code",
   "execution_count": 15,
   "id": "31bdb64a-b07c-465b-ab00-3450aadfd1bf",
   "metadata": {},
   "outputs": [
    {
     "name": "stdout",
     "output_type": "stream",
     "text": [
      "['charity', 'begins', 'at', 'home'] 4 <class 'list'> 2940964873088\n",
      "charity begins at home\n",
      "charity - begins - at - home\n",
      "charity, begins, at, home\n"
     ]
    }
   ],
   "source": [
    "list1 = ['charity', 'begins', 'at', 'home']\n",
    "print (list1, len(list1), type(list1), id(list1))\n",
    "mystr = \" \".join(list1)\n",
    "print (mystr)\n",
    "mystr = \" - \".join(list1)\n",
    "print (mystr)\n",
    "mystr = \", \".join(list1)\n",
    "print (mystr)"
   ]
  },
  {
   "cell_type": "code",
   "execution_count": 18,
   "id": "ce2530b0-3a97-4b54-86e2-412d26d26a35",
   "metadata": {},
   "outputs": [
    {
     "name": "stdout",
     "output_type": "stream",
     "text": [
      "False True True\n",
      "True True False\n",
      "False True False\n",
      "False False False\n"
     ]
    }
   ],
   "source": [
    "mystr = \"1234\"\n",
    "print (mystr.isalpha(), mystr.isalnum(), mystr.isnumeric())\n",
    "mystr = \"abcd\"\n",
    "print (mystr.isalpha(), mystr.isalnum(), mystr.isnumeric())\n",
    "mystr = \"1234abcd\"\n",
    "print (mystr.isalpha(), mystr.isalnum(), mystr.isnumeric())\n",
    "mystr = \"1234@abcd\"\n",
    "print (mystr.isalpha(), mystr.isalnum(), mystr.isnumeric())"
   ]
  },
  {
   "cell_type": "code",
   "execution_count": 19,
   "id": "ca552321-7048-4bfb-afe4-d19c27ba8fbc",
   "metadata": {},
   "outputs": [
    {
     "name": "stdout",
     "output_type": "stream",
     "text": [
      "Help on method_descriptor:\n",
      "\n",
      "lower(self, /)\n",
      "    Return a copy of the string converted to lowercase.\n",
      "\n"
     ]
    }
   ],
   "source": [
    "help(str.lower)"
   ]
  },
  {
   "cell_type": "code",
   "execution_count": null,
   "id": "f77357a6-cb0d-46fb-a670-aeb291f14748",
   "metadata": {},
   "outputs": [],
   "source": [
    "help(str)"
   ]
  },
  {
   "cell_type": "code",
   "execution_count": 23,
   "id": "89825562-9b72-4660-ab44-477e787f80f9",
   "metadata": {},
   "outputs": [
    {
     "name": "stdout",
     "output_type": "stream",
     "text": [
      "Good Morning\n",
      "Good Night\n"
     ]
    }
   ],
   "source": [
    "mystr = \"Good Morning\"\n",
    "print (mystr)\n",
    "mystr = mystr.replace(\"Morning\", \"Night\")\n",
    "print (mystr)"
   ]
  },
  {
   "cell_type": "markdown",
   "id": "a96f32d7-145d-48ad-b248-ece89b343ad1",
   "metadata": {},
   "source": [
    "## **List Processing**"
   ]
  },
  {
   "cell_type": "code",
   "execution_count": 24,
   "id": "8bed385e-3c51-41d6-82fd-9bc914a7e903",
   "metadata": {},
   "outputs": [
    {
     "name": "stdout",
     "output_type": "stream",
     "text": [
      "[100, 400, 300, 200, 700] 5 <class 'list'> 2940999674240\n",
      "700 100\n",
      "1700 340.0\n"
     ]
    }
   ],
   "source": [
    "list1 = [100, 400, 300, 200, 700]\n",
    "print (list1, len(list1), type(list1), id(list1))\n",
    "print (max(list1), min(list1))\n",
    "print (sum(list1), sum(list1) / len(list1))"
   ]
  },
  {
   "cell_type": "code",
   "execution_count": 25,
   "id": "e9df8583-88d3-4405-9a65-67de66254e1a",
   "metadata": {},
   "outputs": [
    {
     "name": "stdout",
     "output_type": "stream",
     "text": [
      "[100, 400, True, 300.5, 200, False, 700] 7 <class 'list'> 2941000401856\n",
      "700 False\n",
      "1701.5 243.07142857142858\n"
     ]
    }
   ],
   "source": [
    "list1 = [100, 400, True, 300.5, 200, False, 700]\n",
    "print (list1, len(list1), type(list1), id(list1))\n",
    "print (max(list1), min(list1))\n",
    "print (sum(list1), sum(list1) / len(list1))"
   ]
  },
  {
   "cell_type": "code",
   "execution_count": 28,
   "id": "58aca37c-0281-42f3-bcbf-41f9d949c9f0",
   "metadata": {},
   "outputs": [
    {
     "name": "stdout",
     "output_type": "stream",
     "text": [
      "['sunday', 'monday', 'friday', 'saturday', 'Tuesday'] 5 <class 'list'> 2941001865984\n",
      "sunday Tuesday\n"
     ]
    },
    {
     "ename": "TypeError",
     "evalue": "unsupported operand type(s) for +: 'int' and 'str'",
     "output_type": "error",
     "traceback": [
      "\u001b[1;31m---------------------------------------------------------------------------\u001b[0m",
      "\u001b[1;31mTypeError\u001b[0m                                 Traceback (most recent call last)",
      "Cell \u001b[1;32mIn[28], line 4\u001b[0m\n\u001b[0;32m      2\u001b[0m \u001b[38;5;28mprint\u001b[39m (list1, \u001b[38;5;28mlen\u001b[39m(list1), \u001b[38;5;28mtype\u001b[39m(list1), \u001b[38;5;28mid\u001b[39m(list1))\n\u001b[0;32m      3\u001b[0m \u001b[38;5;28mprint\u001b[39m (\u001b[38;5;28mmax\u001b[39m(list1), \u001b[38;5;28mmin\u001b[39m(list1))\n\u001b[1;32m----> 4\u001b[0m \u001b[38;5;28mprint\u001b[39m (\u001b[38;5;28msum\u001b[39m(list1), \u001b[38;5;28msum\u001b[39m(list1) \u001b[38;5;241m/\u001b[39m \u001b[38;5;28mlen\u001b[39m(list1))\n",
      "\u001b[1;31mTypeError\u001b[0m: unsupported operand type(s) for +: 'int' and 'str'"
     ]
    }
   ],
   "source": [
    "list1 = [\"sunday\", \"monday\", 'friday', 'saturday', 'Tuesday']\n",
    "print (list1, len(list1), type(list1), id(list1))\n",
    "print (max(list1), min(list1))\n",
    "print (sum(list1), sum(list1) / len(list1))"
   ]
  },
  {
   "cell_type": "code",
   "execution_count": 29,
   "id": "bbeb1b7e-a71c-45cb-b90d-458294cfd859",
   "metadata": {},
   "outputs": [
    {
     "name": "stdout",
     "output_type": "stream",
     "text": [
      "[100, 400, True, 'Tuesday', 300.5, 'Wednesday', 200, False, 700] 9 <class 'list'> 2941002536832\n"
     ]
    },
    {
     "ename": "TypeError",
     "evalue": "'>' not supported between instances of 'str' and 'int'",
     "output_type": "error",
     "traceback": [
      "\u001b[1;31m---------------------------------------------------------------------------\u001b[0m",
      "\u001b[1;31mTypeError\u001b[0m                                 Traceback (most recent call last)",
      "Cell \u001b[1;32mIn[29], line 3\u001b[0m\n\u001b[0;32m      1\u001b[0m list1 \u001b[38;5;241m=\u001b[39m [\u001b[38;5;241m100\u001b[39m, \u001b[38;5;241m400\u001b[39m, \u001b[38;5;28;01mTrue\u001b[39;00m, \u001b[38;5;124m\"\u001b[39m\u001b[38;5;124mTuesday\u001b[39m\u001b[38;5;124m\"\u001b[39m, \u001b[38;5;241m300.5\u001b[39m, \u001b[38;5;124m\"\u001b[39m\u001b[38;5;124mWednesday\u001b[39m\u001b[38;5;124m\"\u001b[39m, \u001b[38;5;241m200\u001b[39m, \u001b[38;5;28;01mFalse\u001b[39;00m, \u001b[38;5;241m700\u001b[39m]\n\u001b[0;32m      2\u001b[0m \u001b[38;5;28mprint\u001b[39m (list1, \u001b[38;5;28mlen\u001b[39m(list1), \u001b[38;5;28mtype\u001b[39m(list1), \u001b[38;5;28mid\u001b[39m(list1))\n\u001b[1;32m----> 3\u001b[0m \u001b[38;5;28mprint\u001b[39m (\u001b[38;5;28mmax\u001b[39m(list1), \u001b[38;5;28mmin\u001b[39m(list1))\n\u001b[0;32m      4\u001b[0m \u001b[38;5;28mprint\u001b[39m (\u001b[38;5;28msum\u001b[39m(list1), \u001b[38;5;28msum\u001b[39m(list1) \u001b[38;5;241m/\u001b[39m \u001b[38;5;28mlen\u001b[39m(list1))\n",
      "\u001b[1;31mTypeError\u001b[0m: '>' not supported between instances of 'str' and 'int'"
     ]
    }
   ],
   "source": [
    "list1 = [100, 400, True, \"Tuesday\", 300.5, \"Wednesday\", 200, False, 700]\n",
    "print (list1, len(list1), type(list1), id(list1))\n",
    "print (max(list1), min(list1))\n",
    "print (sum(list1), sum(list1) / len(list1))"
   ]
  },
  {
   "cell_type": "code",
   "execution_count": 30,
   "id": "7b2342e6-8fe7-4c94-bc7a-c89c56bf1f57",
   "metadata": {},
   "outputs": [
    {
     "name": "stdout",
     "output_type": "stream",
     "text": [
      "['Monday', 'Tuesday', 'Wednesday', 'Thursday', 'Friday'] 5\n",
      "['Mango', 'Pineapple', 'Guava', 'Lime'] 4\n",
      "['Monday', 'Tuesday', 'Wednesday', 'Thursday', 'Friday', 'Mango', 'Pineapple', 'Guava', 'Lime'] 9\n",
      "['Monday', 'Tuesday', 'Wednesday', 'Thursday', 'Friday', 'Mango', 'Pineapple', 'Guava', 'Lime'] 9\n",
      "['Mango', 'Pineapple', 'Guava', 'Lime'] 4\n"
     ]
    }
   ],
   "source": [
    "list1 = [\"Monday\", \"Tuesday\", \"Wednesday\", \"Thursday\", \"Friday\"]\n",
    "list2 = [\"Mango\", \"Pineapple\", \"Guava\", \"Lime\"]\n",
    "print (list1, len(list1))\n",
    "print (list2, len(list2))\n",
    "list3 = list1 + list2    # list concatenation\n",
    "print (list3, len(list3))\n",
    "list1.extend(list2)      # list concatenation\n",
    "print (list1, len(list1))\n",
    "print (list2, len(list2))"
   ]
  },
  {
   "cell_type": "code",
   "execution_count": 33,
   "id": "914ddbc1-20cd-400c-a26d-6b3e74f5e9df",
   "metadata": {},
   "outputs": [
    {
     "name": "stdout",
     "output_type": "stream",
     "text": [
      "['Monday', 'Tuesday', 'Wednesday', 'Thursday', 'Friday'] 5\n",
      "['Mango', 'Pineapple', 'Guava', 'Lime'] 4\n",
      "[['Monday', 'Tuesday', 'Wednesday', 'Thursday', 'Friday'], ['Mango', 'Pineapple', 'Guava', 'Lime']] 2\n",
      "5 4\n",
      "['Pineapple', 'Guava'] ['Wednesday', 'Thursday'] nes\n",
      "['Lime', 'Guava']\n"
     ]
    }
   ],
   "source": [
    "list1 = [\"Monday\", \"Tuesday\", \"Wednesday\", \"Thursday\", \"Friday\"]\n",
    "list2 = [\"Mango\", \"Pineapple\", \"Guava\", \"Lime\"]\n",
    "print (list1, len(list1))\n",
    "print (list2, len(list2))\n",
    "list3 = [list1, list2]      # list of lists\n",
    "print (list3, len(list3))\n",
    "print (len(list3[0]), len(list3[1]))\n",
    "print (list3[1][1:3], list3[0][2:4], list3[0][2][3:6])\n",
    "print (list3[1][-1:-3:-1])"
   ]
  },
  {
   "cell_type": "code",
   "execution_count": 34,
   "id": "4a6bd1e9-0c61-424b-859b-df4585a009b3",
   "metadata": {},
   "outputs": [
    {
     "name": "stdout",
     "output_type": "stream",
     "text": [
      "['Mango', 'Pineapple', 'Coconut', 'Banana', 'Lime'] 5\n",
      "['Mango', 'Pineapple', 'Coconut', 'Banana', 'Lime', 'Guava'] 6\n",
      "['Mango', 'Pineapple', 'Coconut', 'Banana', 'Lime', 'Guava', 'Apple'] 7\n",
      "['Mango', 'Pineapple', 'Coconut', 'Banana', 'Lime', 'Guava', 'Apple', 'Lemon'] 8\n"
     ]
    }
   ],
   "source": [
    "# insert operation on list\n",
    "list1 = ['Mango', 'Pineapple', 'Coconut', 'Banana', 'Lime']\n",
    "print (list1, len(list1))\n",
    "list1.append(\"Guava\")\n",
    "print (list1, len(list1))\n",
    "list1.append(\"Apple\")\n",
    "print (list1, len(list1))\n",
    "list1.append(\"Lemon\")\n",
    "print (list1, len(list1))"
   ]
  },
  {
   "cell_type": "code",
   "execution_count": 35,
   "id": "002f7cab-08cf-4a07-9b4c-429ae6cb155e",
   "metadata": {},
   "outputs": [
    {
     "name": "stdout",
     "output_type": "stream",
     "text": [
      "['Mango', 'Pineapple', 'Coconut', 'Banana', 'Lime'] 5\n",
      "['Mango', 'Pineapple', 'Guava', 'Coconut', 'Banana', 'Lime'] 6\n",
      "['Mango', 'Apple', 'Pineapple', 'Guava', 'Coconut', 'Banana', 'Lime'] 7\n",
      "['Mango', 'Apple', 'Pineapple', 'Lemon', 'Guava', 'Coconut', 'Banana', 'Lime'] 8\n"
     ]
    }
   ],
   "source": [
    "list1 = ['Mango', 'Pineapple', 'Coconut', 'Banana', 'Lime']\n",
    "print (list1, len(list1))\n",
    "list1.insert(2, \"Guava\")\n",
    "print (list1, len(list1))\n",
    "list1.insert(1, \"Apple\")\n",
    "print (list1, len(list1))\n",
    "list1.insert(3, \"Lemon\")\n",
    "print (list1, len(list1))"
   ]
  },
  {
   "cell_type": "code",
   "execution_count": 37,
   "id": "8fa2ec22-77d4-40a5-8fbf-9c64fdadef17",
   "metadata": {},
   "outputs": [
    {
     "name": "stdout",
     "output_type": "stream",
     "text": [
      "['Mango', 'Pineapple', 'Coconut', 'Banana', 'Lime'] 5\n",
      "['Himsagar', 'Pineapple', 'Coconut', 'Banana', 'Lime'] 5\n",
      "['Himsagar', 'Pineapple', 'Coconut', 'Banana', 'Lemon'] 5\n"
     ]
    }
   ],
   "source": [
    "# update operation on list\n",
    "list1 = ['Mango', 'Pineapple', 'Coconut', 'Banana', 'Lime']\n",
    "print (list1, len(list1))\n",
    "list1[0] = \"Himsagar\"\n",
    "print (list1, len(list1))\n",
    "list1[4] = \"Lemon\"\n",
    "print (list1, len(list1))"
   ]
  },
  {
   "cell_type": "code",
   "execution_count": 38,
   "id": "af32c6dd-9e64-4908-b52f-c92a2eb3ca2e",
   "metadata": {},
   "outputs": [
    {
     "name": "stdout",
     "output_type": "stream",
     "text": [
      "['Mango', 'Pineapple', 'Coconut', 'Banana', 'Lime'] 5\n",
      "['Mango', 'Coconut', 'Banana', 'Lime'] 4\n",
      "['Mango', 'Coconut', 'Lime'] 3\n"
     ]
    },
    {
     "ename": "ValueError",
     "evalue": "list.remove(x): x not in list",
     "output_type": "error",
     "traceback": [
      "\u001b[1;31m---------------------------------------------------------------------------\u001b[0m",
      "\u001b[1;31mValueError\u001b[0m                                Traceback (most recent call last)",
      "Cell \u001b[1;32mIn[38], line 8\u001b[0m\n\u001b[0;32m      6\u001b[0m list1\u001b[38;5;241m.\u001b[39mremove(\u001b[38;5;124m\"\u001b[39m\u001b[38;5;124mBanana\u001b[39m\u001b[38;5;124m\"\u001b[39m)\n\u001b[0;32m      7\u001b[0m \u001b[38;5;28mprint\u001b[39m (list1, \u001b[38;5;28mlen\u001b[39m(list1))\n\u001b[1;32m----> 8\u001b[0m list1\u001b[38;5;241m.\u001b[39mremove(\u001b[38;5;124m\"\u001b[39m\u001b[38;5;124mLemon\u001b[39m\u001b[38;5;124m\"\u001b[39m)\n\u001b[0;32m      9\u001b[0m \u001b[38;5;28mprint\u001b[39m (list1, \u001b[38;5;28mlen\u001b[39m(list1))\n",
      "\u001b[1;31mValueError\u001b[0m: list.remove(x): x not in list"
     ]
    }
   ],
   "source": [
    "# deletion operation on list\n",
    "list1 = ['Mango', 'Pineapple', 'Coconut', 'Banana', 'Lime']\n",
    "print (list1, len(list1))\n",
    "list1.remove(\"Pineapple\")\n",
    "print (list1, len(list1))\n",
    "list1.remove(\"Banana\")\n",
    "print (list1, len(list1))\n",
    "list1.remove(\"Lemon\")\n",
    "print (list1, len(list1))"
   ]
  },
  {
   "cell_type": "code",
   "execution_count": 39,
   "id": "bcff41fd-ed58-47f1-a211-9d6b3fb058c6",
   "metadata": {},
   "outputs": [
    {
     "name": "stdout",
     "output_type": "stream",
     "text": [
      "['Mango', 'Pineapple', 'Coconut', 'Banana', 'Lime'] 5\n",
      "Lime\n",
      "['Mango', 'Pineapple', 'Coconut', 'Banana'] 4\n",
      "Banana\n",
      "['Mango', 'Pineapple', 'Coconut'] 3\n",
      "Coconut\n",
      "['Mango', 'Pineapple'] 2\n"
     ]
    }
   ],
   "source": [
    "list1 = ['Mango', 'Pineapple', 'Coconut', 'Banana', 'Lime']\n",
    "print (list1, len(list1))\n",
    "print (list1.pop())\n",
    "print (list1, len(list1))\n",
    "print (list1.pop())\n",
    "print (list1, len(list1))\n",
    "print (list1.pop())\n",
    "print (list1, len(list1))"
   ]
  },
  {
   "cell_type": "code",
   "execution_count": 40,
   "id": "7b2fce81-1060-496a-95ff-c8ac9ec499ee",
   "metadata": {},
   "outputs": [
    {
     "name": "stdout",
     "output_type": "stream",
     "text": [
      "['Mango', 'Pineapple', 'Coconut', 'Banana', 'Lime'] 5\n",
      "Coconut\n",
      "['Mango', 'Pineapple', 'Banana', 'Lime'] 4\n",
      "Mango\n",
      "['Pineapple', 'Banana', 'Lime'] 3\n",
      "Banana\n",
      "['Pineapple', 'Lime'] 2\n"
     ]
    }
   ],
   "source": [
    "list1 = ['Mango', 'Pineapple', 'Coconut', 'Banana', 'Lime']\n",
    "print (list1, len(list1))\n",
    "print (list1.pop(2))\n",
    "print (list1, len(list1))\n",
    "print (list1.pop(0))\n",
    "print (list1, len(list1))\n",
    "print (list1.pop(1))\n",
    "print (list1, len(list1))"
   ]
  },
  {
   "cell_type": "code",
   "execution_count": 41,
   "id": "d0fd8e94-2124-498c-bf2d-b07b927063f9",
   "metadata": {},
   "outputs": [
    {
     "name": "stdout",
     "output_type": "stream",
     "text": [
      "['Mango', 'Pineapple', 'Coconut', 'Banana', 'Lime'] 5\n",
      "[] 0\n"
     ]
    }
   ],
   "source": [
    "list1 = ['Mango', 'Pineapple', 'Coconut', 'Banana', 'Lime']\n",
    "print (list1, len(list1))\n",
    "list1.clear()\n",
    "print (list1, len(list1))"
   ]
  },
  {
   "cell_type": "code",
   "execution_count": 42,
   "id": "19524e95-892b-422f-bbd1-1d5936fde23b",
   "metadata": {},
   "outputs": [
    {
     "name": "stdout",
     "output_type": "stream",
     "text": [
      "['Mango', 'Pineapple', 'Coconut', 'Banana', 'Lime'] 5\n",
      "['Mango', 'Pineapple', 'Banana', 'Lime'] 4\n",
      "['Pineapple', 'Banana', 'Lime'] 3\n",
      "['Pineapple', 'Lime'] 2\n"
     ]
    }
   ],
   "source": [
    "list1 = ['Mango', 'Pineapple', 'Coconut', 'Banana', 'Lime']\n",
    "print (list1, len(list1))\n",
    "del list1[2]\n",
    "print (list1, len(list1))\n",
    "del list1[0]\n",
    "print (list1, len(list1))\n",
    "del list1[1]\n",
    "print (list1, len(list1))"
   ]
  },
  {
   "cell_type": "code",
   "execution_count": 43,
   "id": "8a697b09-8c18-443b-a23f-d8df0fee284b",
   "metadata": {},
   "outputs": [
    {
     "name": "stdout",
     "output_type": "stream",
     "text": [
      "['Mango', 'Pineapple', 'Coconut', 'Banana', 'Lime'] 5\n"
     ]
    },
    {
     "ename": "NameError",
     "evalue": "name 'list1' is not defined",
     "output_type": "error",
     "traceback": [
      "\u001b[1;31m---------------------------------------------------------------------------\u001b[0m",
      "\u001b[1;31mNameError\u001b[0m                                 Traceback (most recent call last)",
      "Cell \u001b[1;32mIn[43], line 4\u001b[0m\n\u001b[0;32m      2\u001b[0m \u001b[38;5;28mprint\u001b[39m (list1, \u001b[38;5;28mlen\u001b[39m(list1))\n\u001b[0;32m      3\u001b[0m \u001b[38;5;28;01mdel\u001b[39;00m list1\n\u001b[1;32m----> 4\u001b[0m \u001b[38;5;28mprint\u001b[39m (list1, \u001b[38;5;28mlen\u001b[39m(list1))\n",
      "\u001b[1;31mNameError\u001b[0m: name 'list1' is not defined"
     ]
    }
   ],
   "source": [
    "list1 = ['Mango', 'Pineapple', 'Coconut', 'Banana', 'Lime']\n",
    "print (list1, len(list1))\n",
    "del list1\n",
    "print (list1, len(list1))"
   ]
  },
  {
   "cell_type": "code",
   "execution_count": 44,
   "id": "a1a9eb1f-4880-4b04-9104-3b04e927a399",
   "metadata": {},
   "outputs": [
    {
     "name": "stdout",
     "output_type": "stream",
     "text": [
      "['Mango', 'Pineapple', 'Coconut', 'Banana', 'Lime'] 5\n",
      "None\n",
      "['Lime', 'Banana', 'Coconut', 'Pineapple', 'Mango'] 5\n"
     ]
    }
   ],
   "source": [
    "# reverse of a list\n",
    "list1 = ['Mango', 'Pineapple', 'Coconut', 'Banana', 'Lime']\n",
    "print (list1, len(list1))\n",
    "print (list1.reverse())\n",
    "print (list1, len(list1))"
   ]
  },
  {
   "cell_type": "code",
   "execution_count": 45,
   "id": "476817c6-d31e-4ebf-8132-e8eab0233997",
   "metadata": {},
   "outputs": [
    {
     "name": "stdout",
     "output_type": "stream",
     "text": [
      "['Mango', 'Pineapple', 'Coconut', 'Banana', 'Lime'] 5\n",
      "['Banana', 'Coconut', 'Lime', 'Mango', 'Pineapple'] 5\n"
     ]
    }
   ],
   "source": [
    "# sorting of a list\n",
    "list1 = ['Mango', 'Pineapple', 'Coconut', 'Banana', 'Lime']\n",
    "print (list1, len(list1))\n",
    "list1.sort()\n",
    "print (list1, len(list1))"
   ]
  },
  {
   "cell_type": "code",
   "execution_count": 46,
   "id": "817091a7-7abd-4da6-807c-0a048d7d2934",
   "metadata": {},
   "outputs": [
    {
     "name": "stdout",
     "output_type": "stream",
     "text": [
      "['Mango', 'Pineapple', 'Coconut', 'Banana', 'Lime'] 5\n",
      "['Pineapple', 'Mango', 'Lime', 'Coconut', 'Banana'] 5\n"
     ]
    }
   ],
   "source": [
    "list1 = ['Mango', 'Pineapple', 'Coconut', 'Banana', 'Lime']\n",
    "print (list1, len(list1))\n",
    "list1.sort(reverse = True)\n",
    "print (list1, len(list1))"
   ]
  },
  {
   "cell_type": "code",
   "execution_count": 47,
   "id": "7adf095d-78fc-4a42-a28d-0bec6c985c11",
   "metadata": {},
   "outputs": [
    {
     "name": "stdout",
     "output_type": "stream",
     "text": [
      "['Mango', 'Pineapple', 'Coconut', 'Banana', 'Lime'] 5\n",
      "['Banana', 'Coconut', 'Lime', 'Mango', 'Pineapple'] 5\n"
     ]
    }
   ],
   "source": [
    "list1 = ['Mango', 'Pineapple', 'Coconut', 'Banana', 'Lime']\n",
    "print (list1, len(list1))\n",
    "list1 = sorted(list1)\n",
    "print (list1, len(list1))"
   ]
  },
  {
   "cell_type": "code",
   "execution_count": 48,
   "id": "78358c2e-e6e4-4ac1-851e-d27d4fc1f8a4",
   "metadata": {},
   "outputs": [
    {
     "name": "stdout",
     "output_type": "stream",
     "text": [
      "['Mango', 'Pineapple', 'Coconut', 'Banana', 'Lime'] 5\n",
      "['Pineapple', 'Mango', 'Lime', 'Coconut', 'Banana'] 5\n"
     ]
    }
   ],
   "source": [
    "list1 = ['Mango', 'Pineapple', 'Coconut', 'Banana', 'Lime']\n",
    "print (list1, len(list1))\n",
    "list1 = sorted(list1, reverse = True)\n",
    "print (list1, len(list1))"
   ]
  },
  {
   "cell_type": "code",
   "execution_count": 49,
   "id": "c523443a-1019-40ca-ae3a-f71e223add21",
   "metadata": {},
   "outputs": [
    {
     "name": "stdout",
     "output_type": "stream",
     "text": [
      "['Mango', 'Pineapple', 'Coconut', 'Banana', 'Pineapple', 'Coconut', 'Banana', 'Lime'] 8\n",
      "2\n",
      "1\n",
      "4\n"
     ]
    }
   ],
   "source": [
    "list1 = ['Mango', 'Pineapple', 'Coconut', 'Banana', 'Pineapple', 'Coconut', 'Banana', 'Lime']\n",
    "print (list1, len(list1))\n",
    "print (list1.count('Pineapple'))\n",
    "print (list1.index(\"Pineapple\"))\n",
    "print (list1.index(\"Pineapple\", 2))"
   ]
  },
  {
   "cell_type": "code",
   "execution_count": null,
   "id": "26344571-fde6-4f6f-a0e7-a68f276088ae",
   "metadata": {},
   "outputs": [],
   "source": [
    "help(list)"
   ]
  },
  {
   "cell_type": "markdown",
   "id": "8ec67048-b4fc-4657-b72c-3190c2351966",
   "metadata": {},
   "source": [
    "## **Tuple Processing**"
   ]
  },
  {
   "cell_type": "code",
   "execution_count": 51,
   "id": "15297efa-907b-483b-a28b-8e513875ed27",
   "metadata": {},
   "outputs": [
    {
     "name": "stdout",
     "output_type": "stream",
     "text": [
      "(100, 400, 300, 200, 700) 5 <class 'tuple'> 2941009740320\n",
      "700 100\n",
      "1700 340.0\n"
     ]
    }
   ],
   "source": [
    "tuple1 = (100, 400, 300, 200, 700)\n",
    "print (tuple1, len(tuple1), type(tuple1), id(tuple1))\n",
    "print (max(tuple1), min(tuple1))\n",
    "print (sum(tuple1), sum(tuple1) / len(tuple1))"
   ]
  },
  {
   "cell_type": "code",
   "execution_count": 52,
   "id": "9a0ffd1e-a887-4b31-befb-c443fe2ffce0",
   "metadata": {},
   "outputs": [
    {
     "name": "stdout",
     "output_type": "stream",
     "text": [
      "(100, 400, True, 300.5, 200, False, 700) 7 <class 'tuple'> 2941009821856\n",
      "700 False\n",
      "1701.5 243.07142857142858\n"
     ]
    }
   ],
   "source": [
    "tuple1 = (100, 400, True, 300.5, 200, False, 700)\n",
    "print (tuple1, len(tuple1), type(tuple1), id(tuple1))\n",
    "print (max(tuple1), min(tuple1))\n",
    "print (sum(tuple1), sum(tuple1) / len(tuple1))"
   ]
  },
  {
   "cell_type": "code",
   "execution_count": 53,
   "id": "fc639bad-f058-4195-9e81-d899f33e7be0",
   "metadata": {},
   "outputs": [
    {
     "name": "stdout",
     "output_type": "stream",
     "text": [
      "('sunday', 'monday', 'friday', 'saturday', 'tuesday') 5 <class 'tuple'> 2941009740320\n",
      "tuesday friday\n"
     ]
    },
    {
     "ename": "TypeError",
     "evalue": "unsupported operand type(s) for +: 'int' and 'str'",
     "output_type": "error",
     "traceback": [
      "\u001b[1;31m---------------------------------------------------------------------------\u001b[0m",
      "\u001b[1;31mTypeError\u001b[0m                                 Traceback (most recent call last)",
      "Cell \u001b[1;32mIn[53], line 4\u001b[0m\n\u001b[0;32m      2\u001b[0m \u001b[38;5;28mprint\u001b[39m (tuple1, \u001b[38;5;28mlen\u001b[39m(tuple1), \u001b[38;5;28mtype\u001b[39m(tuple1), \u001b[38;5;28mid\u001b[39m(tuple1))\n\u001b[0;32m      3\u001b[0m \u001b[38;5;28mprint\u001b[39m (\u001b[38;5;28mmax\u001b[39m(tuple1), \u001b[38;5;28mmin\u001b[39m(tuple1))\n\u001b[1;32m----> 4\u001b[0m \u001b[38;5;28mprint\u001b[39m (\u001b[38;5;28msum\u001b[39m(tuple1), \u001b[38;5;28msum\u001b[39m(tuple1) \u001b[38;5;241m/\u001b[39m \u001b[38;5;28mlen\u001b[39m(tuple1))\n",
      "\u001b[1;31mTypeError\u001b[0m: unsupported operand type(s) for +: 'int' and 'str'"
     ]
    }
   ],
   "source": [
    "tuple1 = (\"sunday\", \"monday\", 'friday', 'saturday', 'tuesday')\n",
    "print (tuple1, len(tuple1), type(tuple1), id(tuple1))\n",
    "print (max(tuple1), min(tuple1))\n",
    "print (sum(tuple1), sum(tuple1) / len(tuple1))"
   ]
  },
  {
   "cell_type": "code",
   "execution_count": 54,
   "id": "d7beae6e-395a-4b29-a532-584155e117bb",
   "metadata": {},
   "outputs": [
    {
     "name": "stdout",
     "output_type": "stream",
     "text": [
      "(100, 400, True, 'Tuesday', 300, 'Wednesday', 200.5, False, 700) 9 <class 'tuple'> 2941003507008\n"
     ]
    },
    {
     "ename": "TypeError",
     "evalue": "'>' not supported between instances of 'str' and 'int'",
     "output_type": "error",
     "traceback": [
      "\u001b[1;31m---------------------------------------------------------------------------\u001b[0m",
      "\u001b[1;31mTypeError\u001b[0m                                 Traceback (most recent call last)",
      "Cell \u001b[1;32mIn[54], line 3\u001b[0m\n\u001b[0;32m      1\u001b[0m tuple1 \u001b[38;5;241m=\u001b[39m (\u001b[38;5;241m100\u001b[39m, \u001b[38;5;241m400\u001b[39m, \u001b[38;5;28;01mTrue\u001b[39;00m, \u001b[38;5;124m\"\u001b[39m\u001b[38;5;124mTuesday\u001b[39m\u001b[38;5;124m\"\u001b[39m, \u001b[38;5;241m300\u001b[39m, \u001b[38;5;124m\"\u001b[39m\u001b[38;5;124mWednesday\u001b[39m\u001b[38;5;124m\"\u001b[39m, \u001b[38;5;241m200.5\u001b[39m, \u001b[38;5;28;01mFalse\u001b[39;00m, \u001b[38;5;241m700\u001b[39m)\n\u001b[0;32m      2\u001b[0m \u001b[38;5;28mprint\u001b[39m (tuple1, \u001b[38;5;28mlen\u001b[39m(tuple1), \u001b[38;5;28mtype\u001b[39m(tuple1), \u001b[38;5;28mid\u001b[39m(tuple1))\n\u001b[1;32m----> 3\u001b[0m \u001b[38;5;28mprint\u001b[39m (\u001b[38;5;28mmax\u001b[39m(tuple1), \u001b[38;5;28mmin\u001b[39m(tuple1))\n\u001b[0;32m      4\u001b[0m \u001b[38;5;28mprint\u001b[39m (\u001b[38;5;28msum\u001b[39m(tuple1), \u001b[38;5;28msum\u001b[39m(tuple1) \u001b[38;5;241m/\u001b[39m \u001b[38;5;28mlen\u001b[39m(tuple1))\n",
      "\u001b[1;31mTypeError\u001b[0m: '>' not supported between instances of 'str' and 'int'"
     ]
    }
   ],
   "source": [
    "tuple1 = (100, 400, True, \"Tuesday\", 300, \"Wednesday\", 200.5, False, 700)\n",
    "print (tuple1, len(tuple1), type(tuple1), id(tuple1))\n",
    "print (max(tuple1), min(tuple1))\n",
    "print (sum(tuple1), sum(tuple1) / len(tuple1))"
   ]
  },
  {
   "cell_type": "code",
   "execution_count": 55,
   "id": "c615eca9-7817-48a7-9c33-945976ccc65d",
   "metadata": {},
   "outputs": [
    {
     "name": "stdout",
     "output_type": "stream",
     "text": [
      "('Monday', 'Tuesday', 'Wednesday', 'Thursday', 'Friday') 5 <class 'tuple'> 2941003451344\n",
      "Wednesday Wednesday Thursday Thursday\n",
      "nes nes\n",
      "hurs hurs\n"
     ]
    }
   ],
   "source": [
    "# Indexing and slicing\n",
    "# L ro R ->   0         1          2            3           4\n",
    "tuple1 =    (\"Monday\", \"Tuesday\", \"Wednesday\", \"Thursday\", \"Friday\")\n",
    "# R to L ->  -5        -4         -3           -2          -1\n",
    "print (tuple1, len(tuple1), type(tuple1), id(tuple1))\n",
    "print (tuple1[2], tuple1[-3], tuple1[3], tuple1[-2])\n",
    "print (tuple1[2][3:6], tuple1[-3][-6:-3])\n",
    "print (tuple1[3][1:5], tuple1[-2][-7:-3])"
   ]
  },
  {
   "cell_type": "code",
   "execution_count": 56,
   "id": "5689e8cc-2b65-4ca4-b77b-d0b2a59acd0b",
   "metadata": {},
   "outputs": [
    {
     "name": "stdout",
     "output_type": "stream",
     "text": [
      "('Monday', 'Tuesday', 'Wednesday', 'Thursday', 'Friday') 5\n",
      "('Mango', 'Pineapple', 'Guava', 'Lime') 4\n",
      "('Monday', 'Tuesday', 'Wednesday', 'Thursday', 'Friday', 'Mango', 'Pineapple', 'Guava', 'Lime') 9\n",
      "(('Monday', 'Tuesday', 'Wednesday', 'Thursday', 'Friday'), ('Mango', 'Pineapple', 'Guava', 'Lime')) 2\n"
     ]
    }
   ],
   "source": [
    "tuple1 = (\"Monday\", \"Tuesday\", \"Wednesday\", \"Thursday\", \"Friday\")\n",
    "tuple2 = (\"Mango\", \"Pineapple\", \"Guava\", \"Lime\")\n",
    "print (tuple1, len(tuple1))\n",
    "print (tuple2, len(tuple2))\n",
    "tuple3 = tuple1 + tuple2    # tuple concatenation\n",
    "print (tuple3, len(tuple3))\n",
    "tuple3 = (tuple1, tuple2)   # tuple of tuples\n",
    "print (tuple3, len(tuple3))"
   ]
  },
  {
   "cell_type": "code",
   "execution_count": 57,
   "id": "3217f998-0ab6-432f-8f87-d387ae9eab93",
   "metadata": {},
   "outputs": [
    {
     "name": "stdout",
     "output_type": "stream",
     "text": [
      "10 <class 'int'>\n",
      "(10,) <class 'tuple'>\n"
     ]
    }
   ],
   "source": [
    "var1 = (10)\n",
    "print (var1, type(var1))\n",
    "var1 = (10,)   # singleton representation of a tuple\n",
    "print (var1, type(var1))"
   ]
  },
  {
   "cell_type": "code",
   "execution_count": 59,
   "id": "cb4286d1-d80b-42a2-a49e-d72b65e25f89",
   "metadata": {},
   "outputs": [
    {
     "name": "stdout",
     "output_type": "stream",
     "text": [
      "('Monday', 'Tuesday', 'Wednesday', 'Thursday', 'Friday') <class 'tuple'> 2941008372464\n",
      "['Monday', 'Saturday', 'Wednesday', 'Thursday', 'Friday'] <class 'list'> 2941002716480\n",
      "('Monday', 'Saturday', 'Wednesday', 'Thursday', 'Friday') <class 'tuple'> 2941003451344\n"
     ]
    }
   ],
   "source": [
    "# update operation on a tuple\n",
    "tuple1 = (\"Monday\", \"Tuesday\", \"Wednesday\", \"Thursday\", \"Friday\")\n",
    "print (tuple1, type(tuple1), id(tuple1))\n",
    "# tuple1[1] = 'Saturday'\n",
    "list1 = list(tuple1)\n",
    "list1[1] = 'Saturday'\n",
    "print (list1, type(list1), id(list1))\n",
    "tuple1 = tuple(list1)\n",
    "print (tuple1, type(tuple1), id(tuple1))"
   ]
  },
  {
   "cell_type": "code",
   "execution_count": 60,
   "id": "cdbf502a-8de6-4082-a2bf-644a5a2cac2c",
   "metadata": {},
   "outputs": [
    {
     "name": "stdout",
     "output_type": "stream",
     "text": [
      "('Monday', 'Tuesday', 'Wednesday', 'Thursday', 'Friday')\n",
      "('Friday', 'Monday', 'Thursday', 'Tuesday', 'Wednesday')\n"
     ]
    }
   ],
   "source": [
    "# sorting on a tuple\n",
    "tuple1 = (\"Monday\", \"Tuesday\", \"Wednesday\", \"Thursday\", \"Friday\")\n",
    "print (tuple1)\n",
    "tuple2 = tuple(sorted(tuple1))\n",
    "print (tuple2)"
   ]
  },
  {
   "cell_type": "code",
   "execution_count": 61,
   "id": "8359402c-a279-4685-b8dc-a21c1bd69f10",
   "metadata": {},
   "outputs": [
    {
     "name": "stdout",
     "output_type": "stream",
     "text": [
      "('Mango', 'Pineapple', 'Coconut', 'Banana', 'Pineapple', 'Coconut', 'Banana', 'Lime')\n",
      "2 0\n"
     ]
    }
   ],
   "source": [
    "tuple1 = ('Mango', 'Pineapple', 'Coconut', 'Banana', 'Pineapple', 'Coconut', 'Banana', 'Lime')\n",
    "print (tuple1)\n",
    "print (tuple1.count('Pineapple'), tuple1.count('Lemon'))"
   ]
  },
  {
   "cell_type": "code",
   "execution_count": 63,
   "id": "8247e9ed-0644-4d1e-bc1b-814bcc5d6dad",
   "metadata": {},
   "outputs": [
    {
     "name": "stdout",
     "output_type": "stream",
     "text": [
      "('Mango', 'Pineapple', 'Coconut', 'Banana', 'Pineapple', 'Coconut', 'Banana', 'Lime')\n",
      "1\n",
      "1\n",
      "4\n"
     ]
    },
    {
     "ename": "ValueError",
     "evalue": "tuple.index(x): x not in tuple",
     "output_type": "error",
     "traceback": [
      "\u001b[1;31m---------------------------------------------------------------------------\u001b[0m",
      "\u001b[1;31mValueError\u001b[0m                                Traceback (most recent call last)",
      "Cell \u001b[1;32mIn[63], line 6\u001b[0m\n\u001b[0;32m      4\u001b[0m \u001b[38;5;28mprint\u001b[39m (tuple1\u001b[38;5;241m.\u001b[39mindex(\u001b[38;5;124m\"\u001b[39m\u001b[38;5;124mPineapple\u001b[39m\u001b[38;5;124m\"\u001b[39m, \u001b[38;5;241m0\u001b[39m))\n\u001b[0;32m      5\u001b[0m \u001b[38;5;28mprint\u001b[39m (tuple1\u001b[38;5;241m.\u001b[39mindex(\u001b[38;5;124m\"\u001b[39m\u001b[38;5;124mPineapple\u001b[39m\u001b[38;5;124m\"\u001b[39m, \u001b[38;5;241m2\u001b[39m))\n\u001b[1;32m----> 6\u001b[0m \u001b[38;5;28mprint\u001b[39m (tuple1\u001b[38;5;241m.\u001b[39mindex(\u001b[38;5;124m\"\u001b[39m\u001b[38;5;124mPineapple\u001b[39m\u001b[38;5;124m\"\u001b[39m, \u001b[38;5;241m5\u001b[39m))\n",
      "\u001b[1;31mValueError\u001b[0m: tuple.index(x): x not in tuple"
     ]
    }
   ],
   "source": [
    "tuple1 = ('Mango', 'Pineapple', 'Coconut', 'Banana', 'Pineapple', 'Coconut', 'Banana', 'Lime')\n",
    "print (tuple1)\n",
    "print (tuple1.index(\"Pineapple\"))\n",
    "print (tuple1.index(\"Pineapple\", 0))\n",
    "print (tuple1.index(\"Pineapple\", 2))\n",
    "print (tuple1.index(\"Pineapple\", 5))"
   ]
  },
  {
   "cell_type": "code",
   "execution_count": null,
   "id": "8d3ac81c-c8d0-4bf9-993b-3c3462c86386",
   "metadata": {},
   "outputs": [],
   "source": []
  },
  {
   "cell_type": "markdown",
   "id": "e97a0136-24b4-4874-a271-3ae67aefa821",
   "metadata": {},
   "source": [
    "## **Day-5**"
   ]
  },
  {
   "cell_type": "markdown",
   "id": "f76f4e1f-8213-4031-8bb4-db45f3aa3c42",
   "metadata": {},
   "source": [
    "## **Dictionary Processing**"
   ]
  },
  {
   "cell_type": "code",
   "execution_count": 2,
   "id": "2f049078-8f60-4568-9648-c7959ef921dc",
   "metadata": {},
   "outputs": [
    {
     "name": "stdout",
     "output_type": "stream",
     "text": [
      "{'apple': 'red', 'pineapple': 'yellow', 'mango': 'green', 'orange': 'orange', 'lime': 'green'} 5 <class 'dict'> 2722356650624\n",
      "dict_keys(['apple', 'pineapple', 'mango', 'orange', 'lime'])\n",
      "dict_values(['red', 'yellow', 'green', 'orange', 'green'])\n",
      "dict_items([('apple', 'red'), ('pineapple', 'yellow'), ('mango', 'green'), ('orange', 'orange'), ('lime', 'green')])\n"
     ]
    }
   ],
   "source": [
    "dict1 = {\"apple\":\"red\", \"pineapple\":\"yellow\", \"mango\":\"green\", \"orange\":\"orange\", \"lime\":\"green\"}\n",
    "print (dict1, len(dict1), type(dict1), id(dict1))\n",
    "print (dict1.keys())   # returns list of keys\n",
    "print (dict1.values()) # returns list of values\n",
    "print (dict1.items())  # returns list of tuples"
   ]
  },
  {
   "cell_type": "code",
   "execution_count": 3,
   "id": "89279f67-e03f-40d2-9d5a-9bb5cb13f4f0",
   "metadata": {},
   "outputs": [
    {
     "name": "stdout",
     "output_type": "stream",
     "text": [
      "green\n",
      "None green NA\n",
      "red yellow\n"
     ]
    },
    {
     "ename": "KeyError",
     "evalue": "'lime'",
     "output_type": "error",
     "traceback": [
      "\u001b[1;31m---------------------------------------------------------------------------\u001b[0m",
      "\u001b[1;31mKeyError\u001b[0m                                  Traceback (most recent call last)",
      "Cell \u001b[1;32mIn[3], line 5\u001b[0m\n\u001b[0;32m      3\u001b[0m \u001b[38;5;28mprint\u001b[39m (dict1\u001b[38;5;241m.\u001b[39mget(\u001b[38;5;124m'\u001b[39m\u001b[38;5;124mbanana\u001b[39m\u001b[38;5;124m'\u001b[39m), dict1\u001b[38;5;241m.\u001b[39mget(\u001b[38;5;124m'\u001b[39m\u001b[38;5;124mmango\u001b[39m\u001b[38;5;124m'\u001b[39m, \u001b[38;5;124m\"\u001b[39m\u001b[38;5;124mNA\u001b[39m\u001b[38;5;124m\"\u001b[39m), dict1\u001b[38;5;241m.\u001b[39mget(\u001b[38;5;124m'\u001b[39m\u001b[38;5;124mbanana\u001b[39m\u001b[38;5;124m'\u001b[39m, \u001b[38;5;124m\"\u001b[39m\u001b[38;5;124mNA\u001b[39m\u001b[38;5;124m\"\u001b[39m))\n\u001b[0;32m      4\u001b[0m \u001b[38;5;28mprint\u001b[39m (dict1[\u001b[38;5;124m'\u001b[39m\u001b[38;5;124mapple\u001b[39m\u001b[38;5;124m'\u001b[39m], dict1[\u001b[38;5;124m'\u001b[39m\u001b[38;5;124mpineapple\u001b[39m\u001b[38;5;124m'\u001b[39m])\n\u001b[1;32m----> 5\u001b[0m \u001b[38;5;28mprint\u001b[39m (dict1[\u001b[38;5;124m'\u001b[39m\u001b[38;5;124mlime\u001b[39m\u001b[38;5;124m'\u001b[39m])\n",
      "\u001b[1;31mKeyError\u001b[0m: 'lime'"
     ]
    }
   ],
   "source": [
    "dict1 = {\"apple\":\"red\", \"pineapple\":\"yellow\", \"mango\":\"green\", \"orange\":\"orange\"}\n",
    "print (dict1.get('mango'))\n",
    "print (dict1.get('banana'), dict1.get('mango', \"NA\"), dict1.get('banana', \"NA\"))\n",
    "print (dict1['apple'], dict1['pineapple'])\n",
    "print (dict1['lime'])"
   ]
  },
  {
   "cell_type": "code",
   "execution_count": 4,
   "id": "0e0dbd88-8d31-4294-a813-901576ba92ce",
   "metadata": {},
   "outputs": [
    {
     "name": "stdout",
     "output_type": "stream",
     "text": [
      "{'apple': 'red', 'pineapple': 'yellow', 'mango': 'green', 'orange': 'orange'}\n",
      "{'apple': 'red', 'pineapple': 'yellow', 'mango': 'green', 'orange': 'orange', 'banana': 'yellow'}\n",
      "{'apple': 'red', 'pineapple': 'yellow', 'mango': 'red', 'orange': 'orange', 'banana': 'yellow'}\n"
     ]
    }
   ],
   "source": [
    "# insert and update operations on a dictionary\n",
    "dict1 = {\"apple\":\"red\", \"pineapple\":\"yellow\", \"mango\":\"green\", \"orange\":\"orange\"}\n",
    "print (dict1)\n",
    "dict1['banana'] = 'yellow'    # insert operation\n",
    "print (dict1)\n",
    "dict1['mango'] = 'red'        # update operation\n",
    "print (dict1)"
   ]
  },
  {
   "cell_type": "code",
   "execution_count": 5,
   "id": "ed4c9515-8b76-441a-84ec-8ed097a3e89b",
   "metadata": {},
   "outputs": [
    {
     "name": "stdout",
     "output_type": "stream",
     "text": [
      "{'apple': 'red', 'pineapple': 'yellow', 'mango': 'green', 'orange': 'orange'}\n",
      "{'apple': 'red', 'pineapple': 'yellow', 'mango': 'green', 'orange': 'orange'}\n",
      "{'apple': 'red', 'pineapple': 'yellow', 'mango': 'green', 'orange': 'orange'}\n",
      "{'apple': 'red', 'pineapple': 'yellow', 'mango': 'green', 'orange': 'orange', 'banana': 'yellow'}\n"
     ]
    }
   ],
   "source": [
    "dict1 = {\"apple\":\"red\", \"pineapple\":\"yellow\", \"mango\":\"green\", \"orange\":\"orange\"}\n",
    "print (dict1)\n",
    "dict1.setdefault(\"apple\", \"deep red\")\n",
    "print (dict1)\n",
    "dict1.setdefault(\"mango\", \"red\")\n",
    "print (dict1)\n",
    "dict1.setdefault(\"banana\", \"yellow\")\n",
    "print (dict1)"
   ]
  },
  {
   "cell_type": "code",
   "execution_count": 8,
   "id": "4ebc023d-1272-43f6-a160-9fb3b366b30f",
   "metadata": {},
   "outputs": [
    {
     "name": "stdout",
     "output_type": "stream",
     "text": [
      "{'apple': 'red', 'pineapple': 'yellow', 'mango': 'green', 'orange': 'orange'}\n",
      "yellow\n",
      "{'apple': 'red', 'mango': 'green', 'orange': 'orange'}\n",
      "green\n",
      "{'apple': 'red', 'orange': 'orange'}\n"
     ]
    },
    {
     "ename": "KeyError",
     "evalue": "'mango'",
     "output_type": "error",
     "traceback": [
      "\u001b[1;31m---------------------------------------------------------------------------\u001b[0m",
      "\u001b[1;31mKeyError\u001b[0m                                  Traceback (most recent call last)",
      "Cell \u001b[1;32mIn[8], line 8\u001b[0m\n\u001b[0;32m      6\u001b[0m \u001b[38;5;28mprint\u001b[39m (dict1\u001b[38;5;241m.\u001b[39mpop(\u001b[38;5;124m'\u001b[39m\u001b[38;5;124mmango\u001b[39m\u001b[38;5;124m'\u001b[39m))\n\u001b[0;32m      7\u001b[0m \u001b[38;5;28mprint\u001b[39m (dict1)\n\u001b[1;32m----> 8\u001b[0m \u001b[38;5;28mprint\u001b[39m (dict1\u001b[38;5;241m.\u001b[39mpop(\u001b[38;5;124m'\u001b[39m\u001b[38;5;124mmango\u001b[39m\u001b[38;5;124m'\u001b[39m))\n\u001b[0;32m      9\u001b[0m \u001b[38;5;28mprint\u001b[39m (dict1)\n",
      "\u001b[1;31mKeyError\u001b[0m: 'mango'"
     ]
    }
   ],
   "source": [
    "# delete operation on dictionary\n",
    "dict1 = {\"apple\":\"red\", \"pineapple\":\"yellow\", \"mango\":\"green\", \"orange\":\"orange\"}\n",
    "print (dict1)\n",
    "print (dict1.pop('pineapple'))\n",
    "print (dict1)\n",
    "print (dict1.pop('mango'))\n",
    "print (dict1)\n",
    "print (dict1.pop('mango'))\n",
    "print (dict1)"
   ]
  },
  {
   "cell_type": "code",
   "execution_count": 9,
   "id": "099db94b-f30e-4ead-ba22-a30472b8ae5c",
   "metadata": {},
   "outputs": [
    {
     "name": "stdout",
     "output_type": "stream",
     "text": [
      "{'apple': 'red', 'pineapple': 'yellow', 'mango': 'green', 'orange': 'orange'}\n",
      "('orange', 'orange')\n",
      "{'apple': 'red', 'pineapple': 'yellow', 'mango': 'green'}\n",
      "('mango', 'green')\n",
      "{'apple': 'red', 'pineapple': 'yellow'}\n"
     ]
    }
   ],
   "source": [
    "dict1 = {\"apple\":\"red\", \"pineapple\":\"yellow\", \"mango\":\"green\", \"orange\":\"orange\"}\n",
    "print (dict1)\n",
    "print (dict1.popitem())\n",
    "print (dict1)\n",
    "print (dict1.popitem())\n",
    "print (dict1)"
   ]
  },
  {
   "cell_type": "code",
   "execution_count": 10,
   "id": "cb0d9c7b-41d9-4a63-82f6-d970e7867b81",
   "metadata": {},
   "outputs": [
    {
     "name": "stdout",
     "output_type": "stream",
     "text": [
      "{'apple': 'red', 'pineapple': 'yellow', 'mango': 'green', 'orange': 'orange'}\n",
      "{}\n"
     ]
    }
   ],
   "source": [
    "dict1 = {\"apple\":\"red\", \"pineapple\":\"yellow\", \"mango\":\"green\", \"orange\":\"orange\"}\n",
    "print (dict1)\n",
    "dict1.clear()\n",
    "print (dict1)"
   ]
  },
  {
   "cell_type": "code",
   "execution_count": 11,
   "id": "a2ccb2ae-d365-44ad-8a51-4b74bbabd631",
   "metadata": {},
   "outputs": [
    {
     "name": "stdout",
     "output_type": "stream",
     "text": [
      "{'apple': 'red', 'pineapple': 'yellow', 'mango': 'green', 'orange': 'orange'}\n"
     ]
    },
    {
     "ename": "NameError",
     "evalue": "name 'dict1' is not defined",
     "output_type": "error",
     "traceback": [
      "\u001b[1;31m---------------------------------------------------------------------------\u001b[0m",
      "\u001b[1;31mNameError\u001b[0m                                 Traceback (most recent call last)",
      "Cell \u001b[1;32mIn[11], line 4\u001b[0m\n\u001b[0;32m      2\u001b[0m \u001b[38;5;28mprint\u001b[39m (dict1)\n\u001b[0;32m      3\u001b[0m \u001b[38;5;28;01mdel\u001b[39;00m dict1\n\u001b[1;32m----> 4\u001b[0m \u001b[38;5;28mprint\u001b[39m (dict1)\n",
      "\u001b[1;31mNameError\u001b[0m: name 'dict1' is not defined"
     ]
    }
   ],
   "source": [
    "dict1 = {\"apple\":\"red\", \"pineapple\":\"yellow\", \"mango\":\"green\", \"orange\":\"orange\"}\n",
    "print (dict1)\n",
    "del dict1\n",
    "print (dict1)"
   ]
  },
  {
   "cell_type": "code",
   "execution_count": 12,
   "id": "ee264dbd-0318-45e5-9785-d33b127cbdf7",
   "metadata": {},
   "outputs": [
    {
     "name": "stdout",
     "output_type": "stream",
     "text": [
      "{'apple': 'red', 'pineapple': 'yellow'} 2\n",
      "{'mango': 'green', 'orange': 'orange', 'lime': 'green'} 3\n",
      "{'apple': 'red', 'pineapple': 'yellow', 'mango': 'green', 'orange': 'orange', 'lime': 'green'} 5\n",
      "{'mango': 'green', 'orange': 'orange', 'lime': 'green'} 3\n"
     ]
    }
   ],
   "source": [
    "# concatenation of dictionaries\n",
    "fruits1 = {\"apple\":\"red\", \"pineapple\":\"yellow\"}\n",
    "fruits2 = {\"mango\":\"green\", \"orange\":\"orange\", \"lime\":\"green\"}\n",
    "print (fruits1, len(fruits1))\n",
    "print (fruits2, len(fruits2))\n",
    "fruits1.update(fruits2)\n",
    "print (fruits1, len(fruits1))\n",
    "print (fruits2, len(fruits2))"
   ]
  },
  {
   "cell_type": "code",
   "execution_count": 13,
   "id": "125bb63b-0259-40ff-9bc0-da08ff4b58f0",
   "metadata": {},
   "outputs": [
    {
     "name": "stdout",
     "output_type": "stream",
     "text": [
      "{'mango': 900, 'pineapple': 900, 'cherry': 900, 'lime': 900}\n"
     ]
    }
   ],
   "source": [
    "mykeys = [\"mango\", 'pineapple', \"cherry\", \"lime\"]\n",
    "price = 900\n",
    "dict1 = dict.fromkeys(mykeys, price)\n",
    "print (dict1)"
   ]
  },
  {
   "cell_type": "code",
   "execution_count": 19,
   "id": "7bd18cf3-7ba5-4771-a835-315378572885",
   "metadata": {},
   "outputs": [
    {
     "name": "stdout",
     "output_type": "stream",
     "text": [
      "<zip object at 0x00000279DB041880>\n",
      "[('mango', 100), ('pineapple', 300), ('cherry', 500), ('lime', 200), ('banana', 700)]\n",
      "(('mango', 100), ('pineapple', 300), ('cherry', 500), ('lime', 200), ('banana', 700))\n",
      "{'mango': 100, 'pineapple': 300, 'cherry': 500, 'lime': 200, 'banana': 700}\n",
      "{'mango': 100, 'pineapple': 300, 'cherry': 500, 'lime': 200, 'banana': 700}\n"
     ]
    }
   ],
   "source": [
    "fruits = [\"mango\", 'pineapple', \"cherry\", \"lime\", \"banana\"]\n",
    "prices = [100, 300, 500, 200, 700, 900]\n",
    "print (zip(fruits, prices))\n",
    "print (list(zip(fruits, prices)))\n",
    "print (tuple(zip(fruits, prices)))\n",
    "print (dict(zip(fruits, prices)))\n",
    "print (dict(list(zip(fruits, prices))))"
   ]
  },
  {
   "cell_type": "code",
   "execution_count": 23,
   "id": "365add54-b52a-4c9c-a1e1-bd733433f93d",
   "metadata": {},
   "outputs": [
    {
     "name": "stdout",
     "output_type": "stream",
     "text": [
      "{'mango': 100, 'pineapple': 300, 'cherry': 500, 'lime': 200, 'banana': 700}\n",
      "{'mango': 100, 'pineapple': 700, 'cherry': 500, 'lime': 200, 'banana': 700}\n"
     ]
    }
   ],
   "source": [
    "dict1 = {'mango': 100, 'pineapple': 300, 'cherry': 500, 'lime': 200, 'banana': 700}\n",
    "print (dict1)\n",
    "dict1 = {'mango': 100, 'pineapple': 300, 'cherry': 500, 'lime': 200, 'banana': 700, 'pineapple': 700}\n",
    "print (dict1)"
   ]
  },
  {
   "cell_type": "code",
   "execution_count": 24,
   "id": "15ba7276-b500-4f46-9422-e430b242adb2",
   "metadata": {},
   "outputs": [
    {
     "name": "stdout",
     "output_type": "stream",
     "text": [
      "March\n",
      "August\n",
      "Invalid Month No.\n"
     ]
    }
   ],
   "source": [
    "def switch_case_demo(month_no):\n",
    "    switcher = {1:\"January\",\n",
    "                2:\"February\",\n",
    "                3:\"March\",\n",
    "                4:\"April\",\n",
    "                5:\"May\",\n",
    "                6:\"June\",\n",
    "                7:\"July\",\n",
    "                8:\"August\",\n",
    "                9:\"September\",\n",
    "                10:\"October\",\n",
    "                11:\"November\",\n",
    "                12:\"December\"}\n",
    "    return switcher.get(month_no, \"Invalid Month No.\")\n",
    "\n",
    "print (switch_case_demo(3))\n",
    "print (switch_case_demo(8))\n",
    "print (switch_case_demo(13))"
   ]
  },
  {
   "cell_type": "code",
   "execution_count": 20,
   "id": "78a89a3b-8584-4dc6-bc4e-416369f2d9b0",
   "metadata": {},
   "outputs": [
    {
     "name": "stdout",
     "output_type": "stream",
     "text": [
      "100 <class 'int'> 140719095467912\n",
      "500 <class 'int'> 2722387059184\n"
     ]
    }
   ],
   "source": [
    "var1 = 100\n",
    "print (var1, type(var1), id(var1))\n",
    "var1 = 500\n",
    "print (var1, type(var1), id(var1))"
   ]
  },
  {
   "cell_type": "markdown",
   "id": "0cb53bcc-5e1f-4870-9663-09086d2b0e72",
   "metadata": {},
   "source": [
    "## **Set Processing**"
   ]
  },
  {
   "cell_type": "code",
   "execution_count": 25,
   "id": "5d4c4663-40df-4f59-b1d9-b9897264f58e",
   "metadata": {},
   "outputs": [
    {
     "name": "stdout",
     "output_type": "stream",
     "text": [
      "{True, 'Chennai', 38.5, 70000, 'Amitava'} 5 2722388398976\n"
     ]
    }
   ],
   "source": [
    "# forming a set from a list\n",
    "list1 = ['Amitava', True, 38.5, 70000, \"Chennai\", True, 38.5, 70000, \"Chennai\", True, 38.5,\n",
    "         70000, \"Chennai\", True, 38.5]\n",
    "set1 = set(list1)\n",
    "print (set1, len(set1), id(set1))"
   ]
  },
  {
   "cell_type": "code",
   "execution_count": 26,
   "id": "b9c34dca-f171-417a-8b3e-3e320c51f22f",
   "metadata": {},
   "outputs": [
    {
     "name": "stdout",
     "output_type": "stream",
     "text": [
      "{True, 'Chennai', 38.5, 70000, 'Amitava'} 5 2722388395840\n"
     ]
    }
   ],
   "source": [
    "# forming a set from a tuple\n",
    "tuple1 = ('Amitava', True, 38.5, 70000, \"Chennai\", True, 38.5, 70000, \"Chennai\", True, 38.5,\n",
    "          70000, \"Chennai\", True, 38.5)\n",
    "set1 = set(tuple1)\n",
    "print (set1, len(set1), id(set1))"
   ]
  },
  {
   "cell_type": "code",
   "execution_count": 27,
   "id": "085e8704-afec-4113-8736-4db0c092b2b7",
   "metadata": {},
   "outputs": [
    {
     "name": "stdout",
     "output_type": "stream",
     "text": [
      "{70000, True, 'Chennai', 38.5, 'Amitava'} 5 2722388396288\n"
     ]
    }
   ],
   "source": [
    "# forming a set directly\n",
    "set1 = {'Amitava', True, 38.5, 70000, \"Chennai\", True, 38.5, 70000, \"Chennai\", True, 38.5,\n",
    "        70000, \"Chennai\", True, 38.5}\n",
    "print (set1, len(set1), id(set1))"
   ]
  },
  {
   "attachments": {
    "SetOperations.png": {
     "image/png": "[encoded data removed]"
    }
   },
   "cell_type": "markdown",
   "id": "7bfba663",
   "metadata": {},
   "source": [
    "![SetOperations.png](attachment:SetOperations.png)"
   ]
  },
  {
   "cell_type": "code",
   "execution_count": 28,
   "id": "e1ae2a35",
   "metadata": {},
   "outputs": [
    {
     "name": "stdout",
     "output_type": "stream",
     "text": [
      "{'cobra', 'viper', 'python'}\n",
      "{'java', 'c++', 'python'}\n",
      "{'java', 'viper', 'c++', 'cobra', 'python'}\n",
      "{'java', 'viper', 'c++', 'cobra', 'python'}\n",
      "{'cobra', 'viper', 'python'}\n",
      "{'java', 'c++', 'python'}\n"
     ]
    }
   ],
   "source": [
    "# set operations: union, intersection, set difference, symmetric difference\n",
    "snakes = {'viper', 'python', 'cobra'}\n",
    "languages = {'java', 'c++', 'python'}\n",
    "print (snakes)\n",
    "print (languages)\n",
    "result = snakes.union(languages)\n",
    "print (result)\n",
    "result = snakes | languages\n",
    "print (result)\n",
    "print (snakes)\n",
    "print (languages)"
   ]
  },
  {
   "cell_type": "code",
   "execution_count": 29,
   "id": "d321a248-eb62-4553-b4e8-b8ea87bb6e88",
   "metadata": {},
   "outputs": [
    {
     "name": "stdout",
     "output_type": "stream",
     "text": [
      "{'cobra', 'viper', 'python'}\n",
      "{'java', 'c++', 'python'}\n",
      "{'python'}\n",
      "{'python'}\n",
      "{'python'}\n",
      "{'java', 'c++', 'python'}\n"
     ]
    }
   ],
   "source": [
    "snakes = {'viper', 'python', 'cobra'}\n",
    "languages = {'java', 'c++', 'python'}\n",
    "print (snakes)\n",
    "print (languages)\n",
    "result = snakes.intersection(languages)\n",
    "print (result)\n",
    "result = snakes & languages\n",
    "print (result)\n",
    "snakes.intersection_update(languages)\n",
    "print (snakes)\n",
    "print (languages)"
   ]
  },
  {
   "cell_type": "code",
   "execution_count": 31,
   "id": "404108bf-24a4-4060-9b39-fca53928df85",
   "metadata": {},
   "outputs": [
    {
     "name": "stdout",
     "output_type": "stream",
     "text": [
      "{'cobra', 'viper', 'python'}\n",
      "{'java', 'c++', 'python'}\n",
      "{'cobra', 'viper'}\n",
      "{'cobra', 'viper'}\n",
      "{'cobra', 'viper'}\n",
      "{'java', 'c++', 'python'}\n"
     ]
    }
   ],
   "source": [
    "snakes = {'viper', 'python', 'cobra'}\n",
    "languages = {'java', 'c++', 'python'}\n",
    "print (snakes)\n",
    "print (languages)\n",
    "result = snakes.difference(languages)\n",
    "print (result)\n",
    "result = snakes - languages\n",
    "print (result)\n",
    "snakes.difference_update(languages)\n",
    "print (snakes)\n",
    "print (languages)"
   ]
  },
  {
   "cell_type": "code",
   "execution_count": 32,
   "id": "faf67ba5-a796-48ba-b581-471d84ee1a8d",
   "metadata": {},
   "outputs": [
    {
     "name": "stdout",
     "output_type": "stream",
     "text": [
      "{'cobra', 'viper', 'python'}\n",
      "{'java', 'c++', 'python'}\n",
      "{'java', 'cobra', 'c++', 'viper'}\n",
      "{'java', 'cobra', 'c++', 'viper'}\n",
      "{'java', 'cobra', 'c++', 'viper'}\n",
      "{'java', 'c++', 'python'}\n"
     ]
    }
   ],
   "source": [
    "snakes = {'viper', 'python', 'cobra'}\n",
    "languages = {'java', 'c++', 'python'}\n",
    "print (snakes)\n",
    "print (languages)\n",
    "result = snakes.symmetric_difference(languages)\n",
    "print (result)\n",
    "result = snakes ^ languages\n",
    "print (result)\n",
    "snakes.symmetric_difference_update(languages)\n",
    "print (snakes)\n",
    "print (languages)"
   ]
  },
  {
   "cell_type": "code",
   "execution_count": 33,
   "id": "6f3fac8a-9556-4634-b93f-f28fad3ef3b7",
   "metadata": {},
   "outputs": [
    {
     "name": "stdout",
     "output_type": "stream",
     "text": [
      "{'cobra', 'viper', 'python'}\n",
      "{'java', 'c++', 'python'}\n",
      "{'java', 'cobra', 'c++', 'viper'}\n",
      "{'java', 'cobra', 'c++', 'viper'}\n",
      "{'cobra', 'viper', 'python'}\n",
      "{'java', 'cobra', 'c++', 'viper'}\n"
     ]
    }
   ],
   "source": [
    "snakes = {'viper', 'python', 'cobra'}\n",
    "languages = {'java', 'c++', 'python'}\n",
    "print (snakes)\n",
    "print (languages)\n",
    "result = snakes.symmetric_difference(languages)\n",
    "print (result)\n",
    "result = snakes ^ languages\n",
    "print (result)\n",
    "languages.symmetric_difference_update(snakes)\n",
    "print (snakes)\n",
    "print (languages)"
   ]
  },
  {
   "cell_type": "code",
   "execution_count": 34,
   "id": "b20410c4-fa1c-44a6-a507-3808f1212231",
   "metadata": {},
   "outputs": [
    {
     "name": "stdout",
     "output_type": "stream",
     "text": [
      "False True False\n",
      "False False True\n",
      "True False False\n"
     ]
    }
   ],
   "source": [
    "set1 = {100, 200, 300}\n",
    "set2 = {400, 500, 600, 700, 800}\n",
    "set3 = {600, 700, 800}\n",
    "print (set1.issuperset(set2), set2.issuperset(set3), set3.issuperset(set2))\n",
    "print (set1.issubset(set2), set2.issubset(set3), set3.issubset(set2))\n",
    "print (set1.isdisjoint(set2), set2.isdisjoint(set3), set3.isdisjoint(set2))"
   ]
  },
  {
   "cell_type": "code",
   "execution_count": 35,
   "id": "8c44d7fa-6363-4ea5-9dff-ec7f7e2b7246",
   "metadata": {},
   "outputs": [
    {
     "name": "stdout",
     "output_type": "stream",
     "text": [
      "{200, 100, 300} 3\n",
      "{200, 100, 400, 300} 4\n",
      "{100, 200, 300, 400, 700} 5\n",
      "{100, 200, 300, 400, 700} 5\n"
     ]
    }
   ],
   "source": [
    "# insert operation on a set\n",
    "set1 = {100, 200, 300}\n",
    "print (set1, len(set1))\n",
    "set1.add(400)\n",
    "print (set1, len(set1))\n",
    "set1.add(700)\n",
    "print (set1, len(set1))\n",
    "set1.add(700)\n",
    "print (set1, len(set1))"
   ]
  },
  {
   "cell_type": "code",
   "execution_count": 36,
   "id": "bef2d9af-b4a2-455a-a6ec-e49645f56bdc",
   "metadata": {},
   "outputs": [
    {
     "name": "stdout",
     "output_type": "stream",
     "text": [
      "{400, 700, 100, 500, 200, 600, 300} 7\n",
      "{400, 700, 100, 500, 200, 600} 6\n",
      "{400, 100, 500, 200, 600} 5\n"
     ]
    },
    {
     "ename": "KeyError",
     "evalue": "700",
     "output_type": "error",
     "traceback": [
      "\u001b[1;31m---------------------------------------------------------------------------\u001b[0m",
      "\u001b[1;31mKeyError\u001b[0m                                  Traceback (most recent call last)",
      "Cell \u001b[1;32mIn[36], line 8\u001b[0m\n\u001b[0;32m      6\u001b[0m set1\u001b[38;5;241m.\u001b[39mremove(\u001b[38;5;241m700\u001b[39m)\n\u001b[0;32m      7\u001b[0m \u001b[38;5;28mprint\u001b[39m (set1, \u001b[38;5;28mlen\u001b[39m(set1))\n\u001b[1;32m----> 8\u001b[0m set1\u001b[38;5;241m.\u001b[39mremove(\u001b[38;5;241m700\u001b[39m)\n\u001b[0;32m      9\u001b[0m \u001b[38;5;28mprint\u001b[39m (set1, \u001b[38;5;28mlen\u001b[39m(set1))\n",
      "\u001b[1;31mKeyError\u001b[0m: 700"
     ]
    }
   ],
   "source": [
    "# delete operation on a set\n",
    "set1 = {100, 200, 300, 600, 700, 500, 400}\n",
    "print (set1, len(set1))\n",
    "set1.remove(300)\n",
    "print (set1, len(set1))\n",
    "set1.remove(700)\n",
    "print (set1, len(set1))\n",
    "set1.remove(700)\n",
    "print (set1, len(set1))"
   ]
  },
  {
   "cell_type": "code",
   "execution_count": 37,
   "id": "ee81f3f1-793f-40ba-822b-1aa52e041a11",
   "metadata": {},
   "outputs": [
    {
     "name": "stdout",
     "output_type": "stream",
     "text": [
      "{400, 700, 100, 500, 200, 600, 300} 7\n",
      "{400, 700, 100, 500, 200, 600} 6\n",
      "{400, 100, 500, 200, 600} 5\n",
      "{400, 100, 500, 200, 600} 5\n"
     ]
    }
   ],
   "source": [
    "set1 = {100, 200, 300, 600, 700, 500, 400}\n",
    "print (set1, len(set1))\n",
    "set1.discard(300)\n",
    "print (set1, len(set1))\n",
    "set1.discard(700)\n",
    "print (set1, len(set1))\n",
    "set1.discard(700)\n",
    "print (set1, len(set1))"
   ]
  },
  {
   "cell_type": "code",
   "execution_count": 38,
   "id": "9cd09e03-973f-43e1-9008-461d3d426e80",
   "metadata": {},
   "outputs": [
    {
     "name": "stdout",
     "output_type": "stream",
     "text": [
      "{400, 700, 100, 500, 200, 600, 300} 7\n",
      "400\n",
      "{700, 100, 500, 200, 600, 300} 6\n",
      "700\n",
      "{100, 500, 200, 600, 300} 5\n",
      "100\n",
      "{500, 200, 600, 300} 4\n"
     ]
    }
   ],
   "source": [
    "set1 = {100, 200, 300, 600, 700, 500, 400}\n",
    "print (set1, len(set1))\n",
    "print (set1.pop())\n",
    "print (set1, len(set1))\n",
    "print (set1.pop())\n",
    "print (set1, len(set1))\n",
    "print (set1.pop())\n",
    "print (set1, len(set1))"
   ]
  },
  {
   "cell_type": "code",
   "execution_count": 39,
   "id": "18aa3e30-9c52-47e8-b1c7-61a72ef5ef95",
   "metadata": {},
   "outputs": [
    {
     "name": "stdout",
     "output_type": "stream",
     "text": [
      "{400, 700, 100, 500, 200, 600, 300} 7\n",
      "set() 0\n"
     ]
    }
   ],
   "source": [
    "set1 = {100, 200, 300, 600, 700, 500, 400}\n",
    "print (set1, len(set1))\n",
    "set1.clear()\n",
    "print (set1, len(set1))"
   ]
  },
  {
   "cell_type": "code",
   "execution_count": 40,
   "id": "c31721fa-8798-4c1c-aae6-f425af7f0efb",
   "metadata": {},
   "outputs": [
    {
     "name": "stdout",
     "output_type": "stream",
     "text": [
      "{400, 700, 100, 500, 200, 600, 300} 7\n"
     ]
    },
    {
     "ename": "NameError",
     "evalue": "name 'set1' is not defined",
     "output_type": "error",
     "traceback": [
      "\u001b[1;31m---------------------------------------------------------------------------\u001b[0m",
      "\u001b[1;31mNameError\u001b[0m                                 Traceback (most recent call last)",
      "Cell \u001b[1;32mIn[40], line 4\u001b[0m\n\u001b[0;32m      2\u001b[0m \u001b[38;5;28mprint\u001b[39m (set1, \u001b[38;5;28mlen\u001b[39m(set1))\n\u001b[0;32m      3\u001b[0m \u001b[38;5;28;01mdel\u001b[39;00m set1\n\u001b[1;32m----> 4\u001b[0m \u001b[38;5;28mprint\u001b[39m (set1, \u001b[38;5;28mlen\u001b[39m(set1))\n",
      "\u001b[1;31mNameError\u001b[0m: name 'set1' is not defined"
     ]
    }
   ],
   "source": [
    "set1 = {100, 200, 300, 600, 700, 500, 400}\n",
    "print (set1, len(set1))\n",
    "del set1\n",
    "print (set1, len(set1))"
   ]
  },
  {
   "cell_type": "code",
   "execution_count": 41,
   "id": "0143186a-6323-47bc-abf3-1df6d558cea1",
   "metadata": {},
   "outputs": [
    {
     "name": "stdout",
     "output_type": "stream",
     "text": [
      "{400, 700, 100, 500, 200, 600, 300}\n",
      "{400, 1600, 700, 100, 500, 200, 300}\n"
     ]
    }
   ],
   "source": [
    "# update operation on a set\n",
    "set1 = {100, 200, 300, 600, 700, 500, 400}\n",
    "print (set1)\n",
    "set1.remove(600)   # deleting the item\n",
    "set1.add(1600)   # inserting the item\n",
    "print (set1)"
   ]
  },
  {
   "cell_type": "code",
   "execution_count": 42,
   "id": "c844c898-93d3-4905-b6a1-ec95808b83fd",
   "metadata": {},
   "outputs": [
    {
     "name": "stdout",
     "output_type": "stream",
     "text": [
      "{200, 100, 300}\n",
      "{400, 700, 500, 600, 300}\n",
      "{100, 200, 300, 400, 500, 600, 700}\n",
      "{400, 700, 500, 600, 300}\n"
     ]
    }
   ],
   "source": [
    "# concatenating two sets\n",
    "set1 = {100, 200, 300}\n",
    "set2 = {300, 600, 700, 500, 400}\n",
    "print (set1)\n",
    "print (set2)\n",
    "set1.update(set2)\n",
    "print (set1)\n",
    "print (set2)"
   ]
  },
  {
   "cell_type": "markdown",
   "id": "089b635d-66d7-49c8-b8e0-03f6c7945938",
   "metadata": {},
   "source": [
    "## **Frozen Set Processing**"
   ]
  },
  {
   "cell_type": "code",
   "execution_count": 43,
   "id": "2c20af4f-6bf0-42b3-adb5-aaac6ec8dfb9",
   "metadata": {},
   "outputs": [
    {
     "name": "stdout",
     "output_type": "stream",
     "text": [
      "frozenset({True, 'Chennai', 38.5, 70000, 'Amitava'}) <class 'frozenset'> 5\n"
     ]
    }
   ],
   "source": [
    "# forming a frozen set from a list\n",
    "list1 = ['Amitava', True, 38.5, 70000, \"Chennai\", True, 38.5, 70000, \"Chennai\", True, 38.5,\n",
    "         70000, \"Chennai\", True, 38.5]\n",
    "set1 = frozenset(list1)\n",
    "print (set1, type(set1), len(set1))"
   ]
  },
  {
   "cell_type": "code",
   "execution_count": 44,
   "id": "3a996ea1-7964-4909-804d-1be25dce898e",
   "metadata": {},
   "outputs": [
    {
     "name": "stdout",
     "output_type": "stream",
     "text": [
      "frozenset({True, 'Chennai', 38.5, 70000, 'Amitava'}) <class 'frozenset'> 5\n"
     ]
    }
   ],
   "source": [
    "# forming a frozen set from a tuple\n",
    "tuple1 = ('Amitava', True, 38.5, 70000, \"Chennai\", True, 38.5, 70000, \"Chennai\", True, 38.5,\n",
    "          70000, \"Chennai\", True, 38.5)\n",
    "set1 = frozenset(tuple1)\n",
    "print (set1, type(set1), len(set1))"
   ]
  },
  {
   "cell_type": "code",
   "execution_count": 45,
   "id": "7469865e-878c-4f69-b445-b6dce1708f95",
   "metadata": {},
   "outputs": [
    {
     "name": "stdout",
     "output_type": "stream",
     "text": [
      "frozenset({70000, True, 'Chennai', 38.5, 'Amitava'}) <class 'frozenset'> 5\n"
     ]
    }
   ],
   "source": [
    "# forming a frozen set from a set\n",
    "myset = {'Amitava', True, 38.5, 70000, \"Chennai\", True, 38.5, 70000, \"Chennai\", True, 38.5,\n",
    "         \"Chennai\", True, 38.5}\n",
    "set1 = frozenset(myset)\n",
    "print (set1, type(set1), len(set1))"
   ]
  },
  {
   "cell_type": "code",
   "execution_count": 46,
   "id": "a520443e-a055-448a-bb0b-3a41c7c44cba",
   "metadata": {},
   "outputs": [
    {
     "name": "stdout",
     "output_type": "stream",
     "text": [
      "frozenset({'cobra', 'viper', 'python'})\n",
      "frozenset({'java', 'c++', 'python'})\n",
      "frozenset({'java', 'viper', 'c++', 'cobra', 'python'})\n",
      "frozenset({'java', 'viper', 'c++', 'cobra', 'python'})\n"
     ]
    }
   ],
   "source": [
    "# frozen-set operations: union, intersection, difference, symmetric difference\n",
    "snakes = frozenset({'viper', 'python', 'cobra'})\n",
    "languages = frozenset({'java', 'c++', 'python'})\n",
    "print (snakes)\n",
    "print (languages)\n",
    "result = snakes.union(languages)\n",
    "print (result)\n",
    "result = snakes | languages\n",
    "print (result)"
   ]
  },
  {
   "cell_type": "code",
   "execution_count": 47,
   "id": "cdc9fcac-cf4f-43cc-b67a-0a8dd2101896",
   "metadata": {},
   "outputs": [
    {
     "name": "stdout",
     "output_type": "stream",
     "text": [
      "frozenset({'cobra', 'viper', 'python'})\n",
      "frozenset({'java', 'c++', 'python'})\n",
      "frozenset({'python'})\n",
      "frozenset({'python'})\n"
     ]
    }
   ],
   "source": [
    "snakes = frozenset({'viper', 'python', 'cobra'})\n",
    "languages = frozenset({'java', 'c++', 'python'})\n",
    "print (snakes)\n",
    "print (languages)\n",
    "result = snakes.intersection(languages)\n",
    "print (result)\n",
    "result = snakes & languages\n",
    "print (result)"
   ]
  },
  {
   "cell_type": "code",
   "execution_count": 48,
   "id": "795f6af3-4bcc-44f8-989a-e5ca180694a6",
   "metadata": {},
   "outputs": [
    {
     "name": "stdout",
     "output_type": "stream",
     "text": [
      "frozenset({'cobra', 'viper', 'python'})\n",
      "frozenset({'java', 'c++', 'python'})\n",
      "frozenset({'cobra', 'viper'})\n",
      "frozenset({'cobra', 'viper'})\n"
     ]
    }
   ],
   "source": [
    "snakes = frozenset({'viper', 'python', 'cobra'})\n",
    "languages = frozenset({'java', 'c++', 'python'})\n",
    "print (snakes)\n",
    "print (languages)\n",
    "result = snakes.difference(languages)\n",
    "print (result)\n",
    "result = snakes - languages\n",
    "print (result)"
   ]
  },
  {
   "cell_type": "code",
   "execution_count": 49,
   "id": "c7f76409-9b25-4b61-8c88-406335955a3d",
   "metadata": {},
   "outputs": [
    {
     "name": "stdout",
     "output_type": "stream",
     "text": [
      "frozenset({'cobra', 'viper', 'python'})\n",
      "frozenset({'java', 'c++', 'python'})\n",
      "frozenset({'java', 'cobra', 'c++', 'viper'})\n",
      "frozenset({'java', 'cobra', 'c++', 'viper'})\n"
     ]
    }
   ],
   "source": [
    "snakes = frozenset({'viper', 'python', 'cobra'})\n",
    "languages = frozenset({'java', 'c++', 'python'})\n",
    "print (snakes)\n",
    "print (languages)\n",
    "result = snakes.symmetric_difference(languages)\n",
    "print (result)\n",
    "result = snakes ^ languages\n",
    "print (result)"
   ]
  },
  {
   "cell_type": "code",
   "execution_count": 50,
   "id": "6073b2bf-38cf-4a3c-81de-b7615a55bb49",
   "metadata": {},
   "outputs": [
    {
     "name": "stdout",
     "output_type": "stream",
     "text": [
      "False True False\n",
      "False False True\n",
      "True False False\n"
     ]
    }
   ],
   "source": [
    "set1 = frozenset({100, 200, 300})\n",
    "set2 = frozenset({400, 500, 600, 700, 800})\n",
    "set3 = frozenset({600, 700, 800})\n",
    "print (set1.issuperset(set2), set2.issuperset(set3), set3.issuperset(set2))\n",
    "print (set1.issubset(set2), set2.issubset(set3), set3.issubset(set2))\n",
    "print (set1.isdisjoint(set2), set2.isdisjoint(set3), set3.isdisjoint(set2))"
   ]
  },
  {
   "cell_type": "code",
   "execution_count": null,
   "id": "a6f3d68e-bd54-4511-82d3-fcf3021abd7b",
   "metadata": {},
   "outputs": [],
   "source": []
  }
 ],
 "metadata": {
  "kernelspec": {
   "display_name": "Python 3 (ipykernel)",
   "language": "python",
   "name": "python3"
  },
  "language_info": {
   "codemirror_mode": {
    "name": "ipython",
    "version": 3
   },
   "file_extension": ".py",
   "mimetype": "text/x-python",
   "name": "python",
   "nbconvert_exporter": "python",
   "pygments_lexer": "ipython3",
   "version": "3.11.7"
  }
 },
 "nbformat": 4,
 "nbformat_minor": 5
}
